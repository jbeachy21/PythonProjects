{
 "cells": [
  {
   "cell_type": "markdown",
   "metadata": {},
   "source": [
    "# VacationPy\n",
    "----\n",
    "\n",
    "#### Note\n",
    "* Keep an eye on your API usage. Use https://developers.google.com/maps/reporting/gmp-reporting as reference for how to monitor your usage and billing.\n",
    "\n",
    "* Instructions have been included for each segment. You do not have to follow them exactly, but they are included to help you think through the steps."
   ]
  },
  {
   "cell_type": "code",
   "execution_count": 15,
   "metadata": {},
   "outputs": [],
   "source": [
    "# Dependencies and Setup\n",
    "import matplotlib.pyplot as plt\n",
    "import pandas as pd\n",
    "import numpy as np\n",
    "import requests\n",
    "import gmaps\n",
    "import os\n",
    "\n",
    "import sys\n",
    "sys.path.append('../')\n",
    "\n",
    "# Import API key\n",
    "from api_keys import g_key\n",
    "gmaps.configure(api_key=g_key)"
   ]
  },
  {
   "cell_type": "markdown",
   "metadata": {},
   "source": [
    "### Store Part I results into DataFrame\n",
    "* Load the csv exported in Part I to a DataFrame"
   ]
  },
  {
   "cell_type": "code",
   "execution_count": 16,
   "metadata": {},
   "outputs": [
    {
     "data": {
      "text/html": [
       "<div>\n",
       "<style scoped>\n",
       "    .dataframe tbody tr th:only-of-type {\n",
       "        vertical-align: middle;\n",
       "    }\n",
       "\n",
       "    .dataframe tbody tr th {\n",
       "        vertical-align: top;\n",
       "    }\n",
       "\n",
       "    .dataframe thead th {\n",
       "        text-align: right;\n",
       "    }\n",
       "</style>\n",
       "<table border=\"1\" class=\"dataframe\">\n",
       "  <thead>\n",
       "    <tr style=\"text-align: right;\">\n",
       "      <th></th>\n",
       "      <th>Temperature</th>\n",
       "      <th>Locations</th>\n",
       "      <th>Humidity</th>\n",
       "      <th>Latitude</th>\n",
       "      <th>Longitude</th>\n",
       "      <th>Wind Speed</th>\n",
       "      <th>Cloudiness</th>\n",
       "    </tr>\n",
       "  </thead>\n",
       "  <tbody>\n",
       "    <tr>\n",
       "      <th>0</th>\n",
       "      <td>57.72</td>\n",
       "      <td>fakse ladeplads, dk</td>\n",
       "      <td>76</td>\n",
       "      <td>55.22</td>\n",
       "      <td>12.17</td>\n",
       "      <td>11.41</td>\n",
       "      <td>54</td>\n",
       "    </tr>\n",
       "    <tr>\n",
       "      <th>1</th>\n",
       "      <td>78.69</td>\n",
       "      <td>luksuhin, ph</td>\n",
       "      <td>94</td>\n",
       "      <td>14.10</td>\n",
       "      <td>120.88</td>\n",
       "      <td>3.36</td>\n",
       "      <td>20</td>\n",
       "    </tr>\n",
       "    <tr>\n",
       "      <th>2</th>\n",
       "      <td>42.35</td>\n",
       "      <td>levashovo, ru</td>\n",
       "      <td>92</td>\n",
       "      <td>60.10</td>\n",
       "      <td>30.21</td>\n",
       "      <td>13.00</td>\n",
       "      <td>100</td>\n",
       "    </tr>\n",
       "    <tr>\n",
       "      <th>3</th>\n",
       "      <td>52.83</td>\n",
       "      <td>landen, be</td>\n",
       "      <td>81</td>\n",
       "      <td>50.75</td>\n",
       "      <td>5.08</td>\n",
       "      <td>11.41</td>\n",
       "      <td>60</td>\n",
       "    </tr>\n",
       "    <tr>\n",
       "      <th>4</th>\n",
       "      <td>77.99</td>\n",
       "      <td>basiawan, ph</td>\n",
       "      <td>77</td>\n",
       "      <td>6.51</td>\n",
       "      <td>125.51</td>\n",
       "      <td>4.79</td>\n",
       "      <td>100</td>\n",
       "    </tr>\n",
       "  </tbody>\n",
       "</table>\n",
       "</div>"
      ],
      "text/plain": [
       "   Temperature            Locations  Humidity  Latitude  Longitude  \\\n",
       "0        57.72  fakse ladeplads, dk        76     55.22      12.17   \n",
       "1        78.69         luksuhin, ph        94     14.10     120.88   \n",
       "2        42.35        levashovo, ru        92     60.10      30.21   \n",
       "3        52.83           landen, be        81     50.75       5.08   \n",
       "4        77.99         basiawan, ph        77      6.51     125.51   \n",
       "\n",
       "   Wind Speed  Cloudiness  \n",
       "0       11.41          54  \n",
       "1        3.36          20  \n",
       "2       13.00         100  \n",
       "3       11.41          60  \n",
       "4        4.79         100  "
      ]
     },
     "execution_count": 16,
     "metadata": {},
     "output_type": "execute_result"
    }
   ],
   "source": [
    "weather_df = pd.read_csv(\".././WeatherPy/weather.csv\") \n",
    "#weather_df.head()\n",
    "current = 0\n",
    "coordinates = []\n",
    "humidity = []\n",
    "for index,row in weather_df.iterrows():\n",
    "    lat = row['Latitude']\n",
    "    lon = row['Longitude']\n",
    "    Currentcoordinates = (lat, lon)\n",
    "    coordinates.append(Currentcoordinates)\n",
    "    humidity.append(row['Humidity'])\n",
    " \n",
    "weather_df = weather_df.drop(['Unnamed: 0'],axis=1)\n",
    "\n",
    "weather_df.head()"
   ]
  },
  {
   "cell_type": "markdown",
   "metadata": {},
   "source": [
    "### Humidity Heatmap\n",
    "* Configure gmaps.\n",
    "* Use the Lat and Lng as locations and Humidity as the weight.\n",
    "* Add Heatmap layer to map."
   ]
  },
  {
   "cell_type": "code",
   "execution_count": 17,
   "metadata": {},
   "outputs": [
    {
     "data": {
      "application/vnd.jupyter.widget-view+json": {
       "model_id": "c581ce5d3f5342df9a4c2c45d4eb387a",
       "version_major": 2,
       "version_minor": 0
      },
      "text/plain": [
       "Figure(layout=FigureLayout(border='1px solid black', height='500px', margin='0 auto 0 auto', padding='1px', wi…"
      ]
     },
     "metadata": {},
     "output_type": "display_data"
    }
   ],
   "source": [
    "figure_layout = {\n",
    "    'width': '500px',\n",
    "    'height': '500px',\n",
    "    'border': '1px solid black',\n",
    "    'padding': '1px',\n",
    "    'margin': '0 auto 0 auto'\n",
    "}\n",
    "fig = gmaps.figure(layout=figure_layout)\n",
    "\n",
    "\n",
    "heatmap_layer = gmaps.heatmap_layer(\n",
    "    weather_df[['Latitude', 'Longitude']], weights=weather_df['Humidity'],\n",
    "    max_intensity=20, point_radius=6.0)\n",
    "\n",
    "\n",
    "fig.add_layer(heatmap_layer)\n",
    " \n",
    "fig"
   ]
  },
  {
   "cell_type": "code",
   "execution_count": null,
   "metadata": {},
   "outputs": [],
   "source": []
  },
  {
   "cell_type": "markdown",
   "metadata": {},
   "source": [
    "### Create new DataFrame fitting weather criteria\n",
    "* Narrow down the cities to fit weather conditions.\n",
    "* Drop any rows will null values."
   ]
  },
  {
   "cell_type": "code",
   "execution_count": 18,
   "metadata": {},
   "outputs": [
    {
     "data": {
      "application/vnd.jupyter.widget-view+json": {
       "model_id": "bc4f1a18cffa479884870b10d6440580",
       "version_major": 2,
       "version_minor": 0
      },
      "text/plain": [
       "Figure(layout=FigureLayout(border='1px solid black', height='500px', margin='0 auto 0 auto', padding='1px', wi…"
      ]
     },
     "metadata": {},
     "output_type": "display_data"
    }
   ],
   "source": [
    "minTemp = 60\n",
    "MaxTemp = 90\n",
    "WindSpeedLimit = 5\n",
    "\n",
    "figure_layout = {\n",
    "    'width': '500px',\n",
    "    'height': '500px',\n",
    "    'border': '1px solid black',\n",
    "    'padding': '1px',\n",
    "    'margin': '0 auto 0 auto'\n",
    "}\n",
    "fig = gmaps.figure(layout=figure_layout)\n",
    "\n",
    "weather_df = weather_df.dropna()\n",
    "idealLocations1 = weather_df.loc[lambda df: weather_df['Temperature'] > minTemp]\n",
    "idealLocations2 = weather_df.loc[weather_df['Temperature'] < MaxTemp ]\n",
    "idealLocations2 = idealLocations2.merge(idealLocations1, how='inner')\n",
    "idealLocationsFinal = idealLocations2\n",
    "idealLocationsFinal = idealLocationsFinal.loc[idealLocationsFinal['Wind Speed'] > WindSpeedLimit]\n",
    "heatmap_layer = gmaps.heatmap_layer(\n",
    "    idealLocationsFinal[['Latitude', 'Longitude']], weights=idealLocationsFinal['Humidity'],\n",
    "    max_intensity=30, point_radius=7.5)\n",
    "\n",
    "\n",
    "fig.add_layer(heatmap_layer)\n",
    "\n",
    "fig\n",
    "\n",
    "#idealLocationsFinal.head(50)"
   ]
  },
  {
   "cell_type": "markdown",
   "metadata": {},
   "source": [
    "### Hotel Map\n",
    "* Store into variable named `hotel_df`.\n",
    "* Add a \"Hotel Name\" column to the DataFrame.\n",
    "* Set parameters to search for hotels with 5000 meters.\n",
    "* Hit the Google Places API for each city's coordinates.\n",
    "* Store the first Hotel result into the DataFrame.\n",
    "* Plot markers on top of the heatmap."
   ]
  },
  {
   "cell_type": "code",
   "execution_count": 19,
   "metadata": {},
   "outputs": [
    {
     "name": "stdout",
     "output_type": "stream",
     "text": [
      "201 5th Ave N, Seattle, WA 98109, United States\n"
     ]
    }
   ],
   "source": [
    "url2 = f\"https://maps.googleapis.com/maps/api/place/findplacefromtext/json?input=hotel&inputtype=textquery&fields=formatted_address,name&locationbias=circle:5000@47.6918452,-122.2226413&key={g_key}\"\n",
    "response2 = requests.get(url2).json()\n",
    "print(response2['candidates'][0]['formatted_address'])\n",
    " \n",
    "#https://maps.googleapis.com/maps/api/place/findplacefromtext/output?parameters\n",
    "#https://maps.googleapis.com/maps/api/place/findplacefromtext/json?input=mongolian%20grill&inputtype=textquery&fields=photos,formatted_address,name,opening_hours,rating&locationbias=circle:2000@47.6918452,-122.2226413&key=YOUR_API_KEY\n"
   ]
  },
  {
   "cell_type": "code",
   "execution_count": 20,
   "metadata": {},
   "outputs": [
    {
     "data": {
      "text/html": [
       "<div>\n",
       "<style scoped>\n",
       "    .dataframe tbody tr th:only-of-type {\n",
       "        vertical-align: middle;\n",
       "    }\n",
       "\n",
       "    .dataframe tbody tr th {\n",
       "        vertical-align: top;\n",
       "    }\n",
       "\n",
       "    .dataframe thead th {\n",
       "        text-align: right;\n",
       "    }\n",
       "</style>\n",
       "<table border=\"1\" class=\"dataframe\">\n",
       "  <thead>\n",
       "    <tr style=\"text-align: right;\">\n",
       "      <th></th>\n",
       "      <th>Temperature</th>\n",
       "      <th>Location</th>\n",
       "      <th>Humidity</th>\n",
       "      <th>Latitude</th>\n",
       "      <th>Longitude</th>\n",
       "      <th>Wind Speed</th>\n",
       "      <th>Cloudiness</th>\n",
       "      <th>Hotel Name</th>\n",
       "      <th>City</th>\n",
       "      <th>Country</th>\n",
       "      <th>Formatted Address</th>\n",
       "    </tr>\n",
       "  </thead>\n",
       "  <tbody>\n",
       "    <tr>\n",
       "      <th>0</th>\n",
       "      <td>57.72</td>\n",
       "      <td>fakse ladeplads, dk</td>\n",
       "      <td>76</td>\n",
       "      <td>55.22</td>\n",
       "      <td>12.17</td>\n",
       "      <td>11.41</td>\n",
       "      <td>54</td>\n",
       "      <td>Rødvig Kro &amp; Badehotel</td>\n",
       "      <td>Fakse Ladeplads</td>\n",
       "      <td>DK</td>\n",
       "      <td>Østersøvej 8, 4673 Rødvig Stevns, Denmark</td>\n",
       "    </tr>\n",
       "    <tr>\n",
       "      <th>1</th>\n",
       "      <td>78.69</td>\n",
       "      <td>luksuhin, ph</td>\n",
       "      <td>94</td>\n",
       "      <td>14.10</td>\n",
       "      <td>120.88</td>\n",
       "      <td>3.36</td>\n",
       "      <td>20</td>\n",
       "      <td>Taal Vista Hotel</td>\n",
       "      <td>Luksuhin</td>\n",
       "      <td>PH</td>\n",
       "      <td>Kilometer 60 Emilio Aguinaldo Hwy, Kaybagal So...</td>\n",
       "    </tr>\n",
       "    <tr>\n",
       "      <th>2</th>\n",
       "      <td>42.35</td>\n",
       "      <td>levashovo, ru</td>\n",
       "      <td>92</td>\n",
       "      <td>60.10</td>\n",
       "      <td>30.21</td>\n",
       "      <td>13.00</td>\n",
       "      <td>100</td>\n",
       "      <td>Levada Park-Hotel</td>\n",
       "      <td>Levashovo</td>\n",
       "      <td>RU</td>\n",
       "      <td>2-й км Приозерского шоссе, St Petersburg, Leni...</td>\n",
       "    </tr>\n",
       "    <tr>\n",
       "      <th>3</th>\n",
       "      <td>52.83</td>\n",
       "      <td>landen, be</td>\n",
       "      <td>81</td>\n",
       "      <td>50.75</td>\n",
       "      <td>5.08</td>\n",
       "      <td>11.41</td>\n",
       "      <td>60</td>\n",
       "      <td>Hof Van Stayen</td>\n",
       "      <td>Landen</td>\n",
       "      <td>BE</td>\n",
       "      <td>Tiensesteenweg 229, 3800 Sint-Truiden, Belgium</td>\n",
       "    </tr>\n",
       "    <tr>\n",
       "      <th>4</th>\n",
       "      <td>77.99</td>\n",
       "      <td>basiawan, ph</td>\n",
       "      <td>77</td>\n",
       "      <td>6.51</td>\n",
       "      <td>125.51</td>\n",
       "      <td>4.79</td>\n",
       "      <td>100</td>\n",
       "      <td>Datie'S Resthouse Seaside Home Rental</td>\n",
       "      <td>Basiawan</td>\n",
       "      <td>PH</td>\n",
       "      <td>Santa Maria, Davao Occidental, Philippines</td>\n",
       "    </tr>\n",
       "  </tbody>\n",
       "</table>\n",
       "</div>"
      ],
      "text/plain": [
       "   Temperature             Location  Humidity  Latitude  Longitude  \\\n",
       "0        57.72  fakse ladeplads, dk        76     55.22      12.17   \n",
       "1        78.69         luksuhin, ph        94     14.10     120.88   \n",
       "2        42.35        levashovo, ru        92     60.10      30.21   \n",
       "3        52.83           landen, be        81     50.75       5.08   \n",
       "4        77.99         basiawan, ph        77      6.51     125.51   \n",
       "\n",
       "   Wind Speed  Cloudiness                             Hotel Name  \\\n",
       "0       11.41          54                 Rødvig Kro & Badehotel   \n",
       "1        3.36          20                       Taal Vista Hotel   \n",
       "2       13.00         100                      Levada Park-Hotel   \n",
       "3       11.41          60                         Hof Van Stayen   \n",
       "4        4.79         100  Datie'S Resthouse Seaside Home Rental   \n",
       "\n",
       "              City Country                                  Formatted Address  \n",
       "0  Fakse Ladeplads      DK          Østersøvej 8, 4673 Rødvig Stevns, Denmark  \n",
       "1         Luksuhin      PH  Kilometer 60 Emilio Aguinaldo Hwy, Kaybagal So...  \n",
       "2        Levashovo      RU  2-й км Приозерского шоссе, St Petersburg, Leni...  \n",
       "3           Landen      BE     Tiensesteenweg 229, 3800 Sint-Truiden, Belgium  \n",
       "4         Basiawan      PH         Santa Maria, Davao Occidental, Philippines  "
      ]
     },
     "execution_count": 20,
     "metadata": {},
     "output_type": "execute_result"
    }
   ],
   "source": [
    "hotel_df = weather_df\n",
    "hotel_df['Hotel Name'] = ''\n",
    "hotel_df['City'] = ''\n",
    "hotel_df['Country'] = ''\n",
    "hotel_df['Formatted Address'] = ''\n",
    "\n",
    "cities = []\n",
    "countries = []\n",
    "hotel_df = hotel_df.rename(columns={\"Locations\": \"Location\"})\n",
    "formattedLocation = []\n",
    "hotelName = []\n",
    "for index, row in hotel_df.iterrows():\n",
    "    latitude = row['Latitude']\n",
    "    longitude = row['Longitude']\n",
    "    \n",
    "    \n",
    "    url = f\"https://maps.googleapis.com/maps/api/place/findplacefromtext/json?input=hotel&inputtype=textquery&fields=formatted_address,name&locationbias=circle:5000@{latitude},{longitude}&key={g_key}\"\n",
    "    response = requests.get(url).json()\n",
    "    name = response['candidates'][0]['name'].title()\n",
    "    formattedLocation.append(response['candidates'][0]['formatted_address'])\n",
    "    hotelName.append(name)\n",
    "    \n",
    "    location = row['Location']\n",
    "    location = location.split(\",\")\n",
    "    country = location[1].upper()\n",
    "    city = location[0].title()\n",
    "    cities.append(city)\n",
    "    countries.append(country)\n",
    "   \n",
    "hotel_df['Hotel Name'] = hotelName\n",
    "hotel_df['Formatted Address'] = formattedLocation\n",
    "hotel_df['City'] = cities\n",
    "hotel_df['Country'] = countries\n",
    "hotel_df.head()"
   ]
  },
  {
   "cell_type": "code",
   "execution_count": null,
   "metadata": {},
   "outputs": [],
   "source": []
  },
  {
   "cell_type": "code",
   "execution_count": 21,
   "metadata": {},
   "outputs": [
    {
     "data": {
      "text/plain": [
       "['\\n<dl>\\n<dt>Name</dt><dd>Rødvig Kro & Badehotel</dd>\\n<dt>City</dt><dd>Fakse Ladeplads</dd>\\n<dt>Country</dt><dd> DK</dd>\\n</dl>\\n',\n",
       " '\\n<dl>\\n<dt>Name</dt><dd>Taal Vista Hotel</dd>\\n<dt>City</dt><dd>Luksuhin</dd>\\n<dt>Country</dt><dd> PH</dd>\\n</dl>\\n',\n",
       " '\\n<dl>\\n<dt>Name</dt><dd>Levada Park-Hotel</dd>\\n<dt>City</dt><dd>Levashovo</dd>\\n<dt>Country</dt><dd> RU</dd>\\n</dl>\\n',\n",
       " '\\n<dl>\\n<dt>Name</dt><dd>Hof Van Stayen</dd>\\n<dt>City</dt><dd>Landen</dd>\\n<dt>Country</dt><dd> BE</dd>\\n</dl>\\n',\n",
       " \"\\n<dl>\\n<dt>Name</dt><dd>Datie'S Resthouse Seaside Home Rental</dd>\\n<dt>City</dt><dd>Basiawan</dd>\\n<dt>Country</dt><dd> PH</dd>\\n</dl>\\n\",\n",
       " '\\n<dl>\\n<dt>Name</dt><dd>Delta Hotel</dd>\\n<dt>City</dt><dd>De Lier</dd>\\n<dt>Country</dt><dd> NL</dd>\\n</dl>\\n',\n",
       " \"\\n<dl>\\n<dt>Name</dt><dd>Gamoo Kana'An</dd>\\n<dt>City</dt><dd>Dembi Dolo</dd>\\n<dt>Country</dt><dd> ET</dd>\\n</dl>\\n\",\n",
       " '\\n<dl>\\n<dt>Name</dt><dd>Domeniile Panciu</dd>\\n<dt>City</dt><dd>Buciumeni</dd>\\n<dt>Country</dt><dd> RO</dd>\\n</dl>\\n',\n",
       " '\\n<dl>\\n<dt>Name</dt><dd>Ayush Group Of Hotels</dd>\\n<dt>City</dt><dd>Indergarh</dd>\\n<dt>Country</dt><dd> IN</dd>\\n</dl>\\n',\n",
       " '\\n<dl>\\n<dt>Name</dt><dd>Doubletree By Hilton Hotel & Spa Napa Valley - American Canyon</dd>\\n<dt>City</dt><dd>Fairfield</dd>\\n<dt>Country</dt><dd> US</dd>\\n</dl>\\n',\n",
       " '\\n<dl>\\n<dt>Name</dt><dd>Hotel Hirschen Am See</dd>\\n<dt>City</dt><dd>Hinwil</dd>\\n<dt>Country</dt><dd> CH</dd>\\n</dl>\\n',\n",
       " '\\n<dl>\\n<dt>Name</dt><dd>Radisson Blu Limfjord Hotel, Aalborg</dd>\\n<dt>City</dt><dd>Hjallerup</dd>\\n<dt>Country</dt><dd> DK</dd>\\n</dl>\\n',\n",
       " '\\n<dl>\\n<dt>Name</dt><dd>Hotel Saptaparna</dd>\\n<dt>City</dt><dd>Bankura</dd>\\n<dt>Country</dt><dd> IN</dd>\\n</dl>\\n',\n",
       " '\\n<dl>\\n<dt>Name</dt><dd>Hotel Du Port</dd>\\n<dt>City</dt><dd>Neuilly-Sur-Marne</dd>\\n<dt>Country</dt><dd> FR</dd>\\n</dl>\\n',\n",
       " '\\n<dl>\\n<dt>Name</dt><dd>Rembrandt Hotel Ebina</dd>\\n<dt>City</dt><dd>Sagamihara</dd>\\n<dt>Country</dt><dd> JP</dd>\\n</dl>\\n',\n",
       " '\\n<dl>\\n<dt>Name</dt><dd>You And The Sea - Ericeira Hotel And Apartments</dd>\\n<dt>City</dt><dd>Ericeira</dd>\\n<dt>Country</dt><dd> PT</dd>\\n</dl>\\n',\n",
       " '\\n<dl>\\n<dt>Name</dt><dd>Bay Natuh Boutique Hotel</dd>\\n<dt>City</dt><dd>Maimbung</dd>\\n<dt>Country</dt><dd> PH</dd>\\n</dl>\\n',\n",
       " '\\n<dl>\\n<dt>Name</dt><dd>Hôtel Les Saules Parc & Spa [Georges Blanc]</dd>\\n<dt>City</dt><dd>Bourg-En-Bresse</dd>\\n<dt>Country</dt><dd> FR</dd>\\n</dl>\\n',\n",
       " '\\n<dl>\\n<dt>Name</dt><dd>Madang Resort</dd>\\n<dt>City</dt><dd>Madang</dd>\\n<dt>Country</dt><dd> PG</dd>\\n</dl>\\n',\n",
       " '\\n<dl>\\n<dt>Name</dt><dd>Hotel Central</dd>\\n<dt>City</dt><dd>Velyka Kisnytsya</dd>\\n<dt>Country</dt><dd> UA</dd>\\n</dl>\\n']"
      ]
     },
     "execution_count": 21,
     "metadata": {},
     "output_type": "execute_result"
    }
   ],
   "source": [
    "# NOTE: Do not change any of the code in this cell\n",
    "\n",
    "# Using the template add the hotel marks to the heatmap\n",
    "info_box_template = \"\"\"\n",
    "<dl>\n",
    "<dt>Name</dt><dd>{Hotel Name}</dd>\n",
    "<dt>City</dt><dd>{City}</dd>\n",
    "<dt>Country</dt><dd>{Country}</dd>\n",
    "</dl>\n",
    "\"\"\"\n",
    "# Store the DataFrame Row\n",
    "# NOTE: be sure to update with your DataFrame name\n",
    "hotel_info = [info_box_template.format(**row) for index, row in hotel_df.iterrows()]\n",
    "locations = hotel_df[[\"Latitude\", \"Longitude\"]]\n",
    "hotel_info"
   ]
  },
  {
   "cell_type": "code",
   "execution_count": 22,
   "metadata": {},
   "outputs": [
    {
     "data": {
      "application/vnd.jupyter.widget-view+json": {
       "model_id": "bc4f1a18cffa479884870b10d6440580",
       "version_major": 2,
       "version_minor": 0
      },
      "text/plain": [
       "Figure(layout=FigureLayout(border='1px solid black', height='500px', margin='0 auto 0 auto', padding='1px', wi…"
      ]
     },
     "metadata": {},
     "output_type": "display_data"
    }
   ],
   "source": [
    "# Add marker layer ontop of heat map\n",
    "\n",
    "\n",
    "# Display figure\n",
    "\n",
    "markers = gmaps.marker_layer(coordinates)\n",
    "# Add the layer to the map\n",
    "fig.add_layer(markers)\n",
    "fig\n",
    "\n"
   ]
  },
  {
   "cell_type": "code",
   "execution_count": null,
   "metadata": {},
   "outputs": [],
   "source": []
  }
 ],
 "metadata": {
  "kernelspec": {
   "display_name": "Python 3",
   "language": "python",
   "name": "python3"
  },
  "language_info": {
   "codemirror_mode": {
    "name": "ipython",
    "version": 3
   },
   "file_extension": ".py",
   "mimetype": "text/x-python",
   "name": "python",
   "nbconvert_exporter": "python",
   "pygments_lexer": "ipython3",
   "version": "3.8.3"
  },
  "latex_envs": {
   "LaTeX_envs_menu_present": true,
   "autoclose": false,
   "autocomplete": true,
   "bibliofile": "biblio.bib",
   "cite_by": "apalike",
   "current_citInitial": 1,
   "eqLabelWithNumbers": true,
   "eqNumInitial": 1,
   "hotkeys": {
    "equation": "Ctrl-E",
    "itemize": "Ctrl-I"
   },
   "labels_anchors": false,
   "latex_user_defs": false,
   "report_style_numbering": false,
   "user_envs_cfg": false
  }
 },
 "nbformat": 4,
 "nbformat_minor": 4
}
