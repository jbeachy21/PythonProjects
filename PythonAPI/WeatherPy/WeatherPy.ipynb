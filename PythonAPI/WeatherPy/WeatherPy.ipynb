{
 "cells": [
  {
   "cell_type": "markdown",
   "metadata": {},
   "source": [
    "# WeatherPy\n",
    "----\n",
    "\n",
    "#### Note\n",
    "* Instructions have been included for each segment. You do not have to follow them exactly, but they are included to help you think through the steps."
   ]
  },
  {
   "cell_type": "code",
   "execution_count": 21,
   "metadata": {
    "scrolled": true
   },
   "outputs": [],
   "source": [
    "from citipy import citipy\n",
    "import math\n",
    "import numpy as np\n",
    "import random\n",
    "import sys\n",
    "sys.path.append('../')\n",
    "from api_keys import weather_api_key\n",
    "import requests\n",
    "import pandas as pd\n",
    "import matplotlib.pyplot as plt\n",
    "from scipy import stats \n",
    "import json\n",
    " "
   ]
  },
  {
   "cell_type": "markdown",
   "metadata": {},
   "source": [
    "## Generate Cities List"
   ]
  },
  {
   "cell_type": "code",
   "execution_count": 22,
   "metadata": {
    "scrolled": false
   },
   "outputs": [],
   "source": [
    "#Create a list out of all the dictionary of coordinates : city object\n",
    "city = citipy.WORLD_CITIES_DICT\n",
    "#print(city[(40.7683333, -74.1458333)])\n",
    "\n",
    "#Create list out of coordinate tuples that are keys to citipy dictionary\n",
    "CityCoordinates = list(city.keys())\n",
    "\n",
    "\n",
    "#print(len(CityCoordinates))\n",
    "#CityCoordinates\n",
    " "
   ]
  },
  {
   "cell_type": "markdown",
   "metadata": {},
   "source": [
    "### Perform API Calls\n",
    "* Perform a weather check on each city using a series of successive API calls.\n",
    "* Include a print log of each city as it'sbeing processed (with the city number and city name).\n"
   ]
  },
  {
   "cell_type": "code",
   "execution_count": 23,
   "metadata": {
    "scrolled": true
   },
   "outputs": [
    {
     "name": "stdout",
     "output_type": "stream",
     "text": [
      "highland park, us the weather is: 46.69\n",
      "puerto montt, cl the weather is: 55.4\n",
      "west memphis, us the weather is: 56.46\n",
      "stanita, ro the weather is: 47.03\n",
      "turtkul, uz the weather is: 50.18\n",
      "aumbay, ph the weather is: 75.2\n",
      "saedinenie, bg the weather is: 50.83\n",
      "guaiuba, br the weather is: 81.68\n",
      "favara, it the weather is: 57.99\n",
      "chahuites, mx the weather is: 81.81\n",
      "sasovo, ru the weather is: 43.52\n",
      "dubove, ua the weather is: 46.18\n",
      "motca, ro the weather is: 44.96\n",
      "deir hanna, il the weather is: 68\n",
      "richmond, us the weather is: 50.97\n",
      "baleshwar, in the weather is: 74.61\n",
      "tomra, no the weather is: 45.12\n",
      "kresttsy, ru the weather is: 43.39\n",
      "zevio, it the weather is: 53.53\n",
      "swords, ie the weather is: 42.93\n"
     ]
    },
    {
     "data": {
      "text/plain": [
       "{'highland park, us': 46.69,\n",
       " 'puerto montt, cl': 55.4,\n",
       " 'west memphis, us': 56.46,\n",
       " 'stanita, ro': 47.03,\n",
       " 'turtkul, uz': 50.18,\n",
       " 'aumbay, ph': 75.2,\n",
       " 'saedinenie, bg': 50.83,\n",
       " 'guaiuba, br': 81.68,\n",
       " 'favara, it': 57.99,\n",
       " 'chahuites, mx': 81.81,\n",
       " 'sasovo, ru': 43.52,\n",
       " 'dubove, ua': 46.18,\n",
       " 'motca, ro': 44.96,\n",
       " 'deir hanna, il': 68,\n",
       " 'richmond, us': 50.97,\n",
       " 'baleshwar, in': 74.61,\n",
       " 'tomra, no': 45.12,\n",
       " 'kresttsy, ru': 43.39,\n",
       " 'zevio, it': 53.53,\n",
       " 'swords, ie': 42.93}"
      ]
     },
     "execution_count": 23,
     "metadata": {},
     "output_type": "execute_result"
    }
   ],
   "source": [
    "#Variable to limit the number of API calls I can make at any one time so that my API key doesn't get locked again...\n",
    "NumberOfCities = 20\n",
    "#Essentially shuffle and shorten list to length of x\n",
    "CityCoordinates = random.sample(CityCoordinates,NumberOfCities)\n",
    "units = \"imperial\"\n",
    "\n",
    "lat = 59.334591\n",
    "lon = 18.063240\n",
    "\n",
    "\n",
    "#print(len(CityCoordinates))\n",
    "weather_data = {}\n",
    "#url = f\"http://api.openweathermap.org/data/2.5/weather?lat={lat}&lon={lon}&appid={weather_api_key}&units={units}\"\n",
    "#response = requests.get(url).json()\n",
    "#print(f\"{currentcity.city_name},{currentcity.country_code} the weather is: {response['main']['temp']}\")\n",
    "responses = []\n",
    "for i in CityCoordinates:\n",
    "    lat = i[0]\n",
    "    lon = i[-1]\n",
    "    currentcity = citipy.nearest_city(lat,lon)\n",
    "    \n",
    "    country = currentcity.country_code \n",
    "    url = f\"http://api.openweathermap.org/data/2.5/weather?lat={lat}&lon={lon}&appid={weather_api_key}&units={units}\"\n",
    "    response = requests.get(url).json()\n",
    "     \n",
    "    print(f\"{currentcity.city_name}, {country} the weather is: {response['main']['temp']}\")\n",
    "    location = f\"{currentcity.city_name}, {country}\"\n",
    "    weather_data[location] = response['main']['temp']\n",
    "    responses.append(response)\n",
    "\n",
    "weather_data"
   ]
  },
  {
   "cell_type": "markdown",
   "metadata": {},
   "source": [
    "### Convert Raw Data to DataFrame\n",
    "* Export the city data into a .csv.\n",
    "* Display the DataFrame"
   ]
  },
  {
   "cell_type": "code",
   "execution_count": 24,
   "metadata": {},
   "outputs": [
    {
     "data": {
      "text/html": [
       "<div>\n",
       "<style scoped>\n",
       "    .dataframe tbody tr th:only-of-type {\n",
       "        vertical-align: middle;\n",
       "    }\n",
       "\n",
       "    .dataframe tbody tr th {\n",
       "        vertical-align: top;\n",
       "    }\n",
       "\n",
       "    .dataframe thead th {\n",
       "        text-align: right;\n",
       "    }\n",
       "</style>\n",
       "<table border=\"1\" class=\"dataframe\">\n",
       "  <thead>\n",
       "    <tr style=\"text-align: right;\">\n",
       "      <th></th>\n",
       "      <th>Temperature</th>\n",
       "      <th>Locations</th>\n",
       "      <th>Humidity</th>\n",
       "      <th>Latitude</th>\n",
       "      <th>Longitude</th>\n",
       "      <th>Wind Speed</th>\n",
       "      <th>Cloudiness</th>\n",
       "    </tr>\n",
       "  </thead>\n",
       "  <tbody>\n",
       "    <tr>\n",
       "      <th>0</th>\n",
       "      <td>46.69</td>\n",
       "      <td>highland park, us</td>\n",
       "      <td>36</td>\n",
       "      <td>42.41</td>\n",
       "      <td>-83.10</td>\n",
       "      <td>19.46</td>\n",
       "      <td>75</td>\n",
       "    </tr>\n",
       "    <tr>\n",
       "      <th>1</th>\n",
       "      <td>55.40</td>\n",
       "      <td>puerto montt, cl</td>\n",
       "      <td>82</td>\n",
       "      <td>-41.47</td>\n",
       "      <td>-72.94</td>\n",
       "      <td>9.17</td>\n",
       "      <td>90</td>\n",
       "    </tr>\n",
       "    <tr>\n",
       "      <th>2</th>\n",
       "      <td>56.46</td>\n",
       "      <td>west memphis, us</td>\n",
       "      <td>26</td>\n",
       "      <td>35.15</td>\n",
       "      <td>-90.18</td>\n",
       "      <td>3.36</td>\n",
       "      <td>1</td>\n",
       "    </tr>\n",
       "    <tr>\n",
       "      <th>3</th>\n",
       "      <td>47.03</td>\n",
       "      <td>stanita, ro</td>\n",
       "      <td>76</td>\n",
       "      <td>47.02</td>\n",
       "      <td>27.10</td>\n",
       "      <td>2.24</td>\n",
       "      <td>0</td>\n",
       "    </tr>\n",
       "    <tr>\n",
       "      <th>4</th>\n",
       "      <td>50.18</td>\n",
       "      <td>turtkul, uz</td>\n",
       "      <td>39</td>\n",
       "      <td>41.55</td>\n",
       "      <td>61.00</td>\n",
       "      <td>7.16</td>\n",
       "      <td>0</td>\n",
       "    </tr>\n",
       "    <tr>\n",
       "      <th>5</th>\n",
       "      <td>75.20</td>\n",
       "      <td>aumbay, ph</td>\n",
       "      <td>94</td>\n",
       "      <td>7.10</td>\n",
       "      <td>125.78</td>\n",
       "      <td>3.36</td>\n",
       "      <td>75</td>\n",
       "    </tr>\n",
       "    <tr>\n",
       "      <th>6</th>\n",
       "      <td>50.83</td>\n",
       "      <td>saedinenie, bg</td>\n",
       "      <td>76</td>\n",
       "      <td>42.27</td>\n",
       "      <td>24.55</td>\n",
       "      <td>4.70</td>\n",
       "      <td>75</td>\n",
       "    </tr>\n",
       "    <tr>\n",
       "      <th>7</th>\n",
       "      <td>81.68</td>\n",
       "      <td>guaiuba, br</td>\n",
       "      <td>74</td>\n",
       "      <td>-4.03</td>\n",
       "      <td>-38.63</td>\n",
       "      <td>14.99</td>\n",
       "      <td>0</td>\n",
       "    </tr>\n",
       "    <tr>\n",
       "      <th>8</th>\n",
       "      <td>57.99</td>\n",
       "      <td>favara, it</td>\n",
       "      <td>100</td>\n",
       "      <td>37.32</td>\n",
       "      <td>13.65</td>\n",
       "      <td>1.99</td>\n",
       "      <td>0</td>\n",
       "    </tr>\n",
       "    <tr>\n",
       "      <th>9</th>\n",
       "      <td>81.81</td>\n",
       "      <td>chahuites, mx</td>\n",
       "      <td>58</td>\n",
       "      <td>16.28</td>\n",
       "      <td>-94.18</td>\n",
       "      <td>19.28</td>\n",
       "      <td>61</td>\n",
       "    </tr>\n",
       "    <tr>\n",
       "      <th>10</th>\n",
       "      <td>43.52</td>\n",
       "      <td>sasovo, ru</td>\n",
       "      <td>85</td>\n",
       "      <td>54.35</td>\n",
       "      <td>41.92</td>\n",
       "      <td>6.53</td>\n",
       "      <td>84</td>\n",
       "    </tr>\n",
       "    <tr>\n",
       "      <th>11</th>\n",
       "      <td>46.18</td>\n",
       "      <td>dubove, ua</td>\n",
       "      <td>93</td>\n",
       "      <td>48.17</td>\n",
       "      <td>23.89</td>\n",
       "      <td>4.70</td>\n",
       "      <td>100</td>\n",
       "    </tr>\n",
       "    <tr>\n",
       "      <th>12</th>\n",
       "      <td>44.96</td>\n",
       "      <td>motca, ro</td>\n",
       "      <td>94</td>\n",
       "      <td>47.25</td>\n",
       "      <td>26.62</td>\n",
       "      <td>1.74</td>\n",
       "      <td>100</td>\n",
       "    </tr>\n",
       "    <tr>\n",
       "      <th>13</th>\n",
       "      <td>68.00</td>\n",
       "      <td>deir hanna, il</td>\n",
       "      <td>78</td>\n",
       "      <td>32.86</td>\n",
       "      <td>35.36</td>\n",
       "      <td>0.63</td>\n",
       "      <td>1</td>\n",
       "    </tr>\n",
       "    <tr>\n",
       "      <th>14</th>\n",
       "      <td>50.97</td>\n",
       "      <td>richmond, us</td>\n",
       "      <td>23</td>\n",
       "      <td>37.55</td>\n",
       "      <td>-77.46</td>\n",
       "      <td>12.75</td>\n",
       "      <td>1</td>\n",
       "    </tr>\n",
       "    <tr>\n",
       "      <th>15</th>\n",
       "      <td>74.61</td>\n",
       "      <td>baleshwar, in</td>\n",
       "      <td>78</td>\n",
       "      <td>21.49</td>\n",
       "      <td>86.93</td>\n",
       "      <td>6.08</td>\n",
       "      <td>0</td>\n",
       "    </tr>\n",
       "    <tr>\n",
       "      <th>16</th>\n",
       "      <td>45.12</td>\n",
       "      <td>tomra, no</td>\n",
       "      <td>75</td>\n",
       "      <td>62.58</td>\n",
       "      <td>6.93</td>\n",
       "      <td>9.17</td>\n",
       "      <td>75</td>\n",
       "    </tr>\n",
       "    <tr>\n",
       "      <th>17</th>\n",
       "      <td>43.39</td>\n",
       "      <td>kresttsy, ru</td>\n",
       "      <td>88</td>\n",
       "      <td>58.25</td>\n",
       "      <td>32.52</td>\n",
       "      <td>9.46</td>\n",
       "      <td>100</td>\n",
       "    </tr>\n",
       "    <tr>\n",
       "      <th>18</th>\n",
       "      <td>53.53</td>\n",
       "      <td>zevio, it</td>\n",
       "      <td>100</td>\n",
       "      <td>45.37</td>\n",
       "      <td>11.13</td>\n",
       "      <td>2.86</td>\n",
       "      <td>75</td>\n",
       "    </tr>\n",
       "    <tr>\n",
       "      <th>19</th>\n",
       "      <td>42.93</td>\n",
       "      <td>swords, ie</td>\n",
       "      <td>75</td>\n",
       "      <td>53.46</td>\n",
       "      <td>-6.22</td>\n",
       "      <td>14.99</td>\n",
       "      <td>40</td>\n",
       "    </tr>\n",
       "  </tbody>\n",
       "</table>\n",
       "</div>"
      ],
      "text/plain": [
       "    Temperature          Locations  Humidity  Latitude  Longitude  Wind Speed  \\\n",
       "0         46.69  highland park, us        36     42.41     -83.10       19.46   \n",
       "1         55.40   puerto montt, cl        82    -41.47     -72.94        9.17   \n",
       "2         56.46   west memphis, us        26     35.15     -90.18        3.36   \n",
       "3         47.03        stanita, ro        76     47.02      27.10        2.24   \n",
       "4         50.18        turtkul, uz        39     41.55      61.00        7.16   \n",
       "5         75.20         aumbay, ph        94      7.10     125.78        3.36   \n",
       "6         50.83     saedinenie, bg        76     42.27      24.55        4.70   \n",
       "7         81.68        guaiuba, br        74     -4.03     -38.63       14.99   \n",
       "8         57.99         favara, it       100     37.32      13.65        1.99   \n",
       "9         81.81      chahuites, mx        58     16.28     -94.18       19.28   \n",
       "10        43.52         sasovo, ru        85     54.35      41.92        6.53   \n",
       "11        46.18         dubove, ua        93     48.17      23.89        4.70   \n",
       "12        44.96          motca, ro        94     47.25      26.62        1.74   \n",
       "13        68.00     deir hanna, il        78     32.86      35.36        0.63   \n",
       "14        50.97       richmond, us        23     37.55     -77.46       12.75   \n",
       "15        74.61      baleshwar, in        78     21.49      86.93        6.08   \n",
       "16        45.12          tomra, no        75     62.58       6.93        9.17   \n",
       "17        43.39       kresttsy, ru        88     58.25      32.52        9.46   \n",
       "18        53.53          zevio, it       100     45.37      11.13        2.86   \n",
       "19        42.93         swords, ie        75     53.46      -6.22       14.99   \n",
       "\n",
       "    Cloudiness  \n",
       "0           75  \n",
       "1           90  \n",
       "2            1  \n",
       "3            0  \n",
       "4            0  \n",
       "5           75  \n",
       "6           75  \n",
       "7            0  \n",
       "8            0  \n",
       "9           61  \n",
       "10          84  \n",
       "11         100  \n",
       "12         100  \n",
       "13           1  \n",
       "14           1  \n",
       "15           0  \n",
       "16          75  \n",
       "17         100  \n",
       "18          75  \n",
       "19          40  "
      ]
     },
     "execution_count": 24,
     "metadata": {},
     "output_type": "execute_result"
    }
   ],
   "source": [
    "#weather_data\n",
    "humidities = []\n",
    "latitudes = []\n",
    "longitudes = []\n",
    "wind_speeds = []\n",
    "cloudiness = []\n",
    "for i in responses:\n",
    "    \n",
    "    humidities.append(i['main']['humidity'])\n",
    "    latitudes.append(i['coord']['lat'])\n",
    "    longitudes.append(i['coord']['lon'])\n",
    "    wind_speeds.append(i['wind']['speed'])\n",
    "    cloudiness.append(i['clouds']['all'])\n",
    "    #print(json.dumps(i, indent = 1)) \n",
    "\n",
    "\n",
    "weather_df = pd.DataFrame(columns=['Temperature','Locations', 'Humidity', 'Latitude', \n",
    "                        'Longitude','Wind Speed', 'Cloudiness'])\n",
    "weather_df[\"Temperature\"] = weather_data.values()\n",
    "weather_df[\"Locations\"] = weather_data.keys()\n",
    "weather_df[\"Humidity\"] = humidities\n",
    "weather_df[\"Latitude\"] = latitudes\n",
    "weather_df[\"Longitude\"] = longitudes\n",
    "weather_df[\"Wind Speed\"] = wind_speeds\n",
    "weather_df[\"Cloudiness\"] = cloudiness\n",
    "weather_df"
   ]
  },
  {
   "cell_type": "code",
   "execution_count": null,
   "metadata": {},
   "outputs": [],
   "source": []
  },
  {
   "cell_type": "code",
   "execution_count": null,
   "metadata": {},
   "outputs": [],
   "source": []
  },
  {
   "cell_type": "markdown",
   "metadata": {},
   "source": [
    "## Inspect the data and remove the cities where the humidity > 100%.\n",
    "----\n",
    "Skip this step if there are no cities that have humidity > 100%. "
   ]
  },
  {
   "cell_type": "code",
   "execution_count": null,
   "metadata": {},
   "outputs": [],
   "source": []
  },
  {
   "cell_type": "code",
   "execution_count": 25,
   "metadata": {},
   "outputs": [
    {
     "data": {
      "text/plain": [
       "[]"
      ]
     },
     "execution_count": 25,
     "metadata": {},
     "output_type": "execute_result"
    }
   ],
   "source": [
    "#  Get the indices of cities that have humidity over 100%.\n",
    "indexes = []\n",
    "current = 0\n",
    "for i in responses:\n",
    "    \n",
    "    #print(f\"The humidity is: {i['main']['humidity']}\")\n",
    "    if i['main']['humidity'] > 100:\n",
    "        indexes.append(current)\n",
    "        current+=1\n",
    "        \n",
    "indexes  "
   ]
  },
  {
   "cell_type": "code",
   "execution_count": 26,
   "metadata": {},
   "outputs": [
    {
     "data": {
      "text/html": [
       "<div>\n",
       "<style scoped>\n",
       "    .dataframe tbody tr th:only-of-type {\n",
       "        vertical-align: middle;\n",
       "    }\n",
       "\n",
       "    .dataframe tbody tr th {\n",
       "        vertical-align: top;\n",
       "    }\n",
       "\n",
       "    .dataframe thead th {\n",
       "        text-align: right;\n",
       "    }\n",
       "</style>\n",
       "<table border=\"1\" class=\"dataframe\">\n",
       "  <thead>\n",
       "    <tr style=\"text-align: right;\">\n",
       "      <th></th>\n",
       "      <th>Temperature</th>\n",
       "      <th>Locations</th>\n",
       "      <th>Humidity</th>\n",
       "      <th>Latitude</th>\n",
       "      <th>Longitude</th>\n",
       "      <th>Wind Speed</th>\n",
       "      <th>Cloudiness</th>\n",
       "    </tr>\n",
       "  </thead>\n",
       "  <tbody>\n",
       "    <tr>\n",
       "      <th>0</th>\n",
       "      <td>46.69</td>\n",
       "      <td>highland park, us</td>\n",
       "      <td>36</td>\n",
       "      <td>42.41</td>\n",
       "      <td>-83.10</td>\n",
       "      <td>19.46</td>\n",
       "      <td>75</td>\n",
       "    </tr>\n",
       "    <tr>\n",
       "      <th>1</th>\n",
       "      <td>55.40</td>\n",
       "      <td>puerto montt, cl</td>\n",
       "      <td>82</td>\n",
       "      <td>-41.47</td>\n",
       "      <td>-72.94</td>\n",
       "      <td>9.17</td>\n",
       "      <td>90</td>\n",
       "    </tr>\n",
       "    <tr>\n",
       "      <th>2</th>\n",
       "      <td>56.46</td>\n",
       "      <td>west memphis, us</td>\n",
       "      <td>26</td>\n",
       "      <td>35.15</td>\n",
       "      <td>-90.18</td>\n",
       "      <td>3.36</td>\n",
       "      <td>1</td>\n",
       "    </tr>\n",
       "    <tr>\n",
       "      <th>3</th>\n",
       "      <td>47.03</td>\n",
       "      <td>stanita, ro</td>\n",
       "      <td>76</td>\n",
       "      <td>47.02</td>\n",
       "      <td>27.10</td>\n",
       "      <td>2.24</td>\n",
       "      <td>0</td>\n",
       "    </tr>\n",
       "    <tr>\n",
       "      <th>4</th>\n",
       "      <td>50.18</td>\n",
       "      <td>turtkul, uz</td>\n",
       "      <td>39</td>\n",
       "      <td>41.55</td>\n",
       "      <td>61.00</td>\n",
       "      <td>7.16</td>\n",
       "      <td>0</td>\n",
       "    </tr>\n",
       "    <tr>\n",
       "      <th>5</th>\n",
       "      <td>75.20</td>\n",
       "      <td>aumbay, ph</td>\n",
       "      <td>94</td>\n",
       "      <td>7.10</td>\n",
       "      <td>125.78</td>\n",
       "      <td>3.36</td>\n",
       "      <td>75</td>\n",
       "    </tr>\n",
       "    <tr>\n",
       "      <th>6</th>\n",
       "      <td>50.83</td>\n",
       "      <td>saedinenie, bg</td>\n",
       "      <td>76</td>\n",
       "      <td>42.27</td>\n",
       "      <td>24.55</td>\n",
       "      <td>4.70</td>\n",
       "      <td>75</td>\n",
       "    </tr>\n",
       "    <tr>\n",
       "      <th>7</th>\n",
       "      <td>81.68</td>\n",
       "      <td>guaiuba, br</td>\n",
       "      <td>74</td>\n",
       "      <td>-4.03</td>\n",
       "      <td>-38.63</td>\n",
       "      <td>14.99</td>\n",
       "      <td>0</td>\n",
       "    </tr>\n",
       "    <tr>\n",
       "      <th>8</th>\n",
       "      <td>57.99</td>\n",
       "      <td>favara, it</td>\n",
       "      <td>100</td>\n",
       "      <td>37.32</td>\n",
       "      <td>13.65</td>\n",
       "      <td>1.99</td>\n",
       "      <td>0</td>\n",
       "    </tr>\n",
       "    <tr>\n",
       "      <th>9</th>\n",
       "      <td>81.81</td>\n",
       "      <td>chahuites, mx</td>\n",
       "      <td>58</td>\n",
       "      <td>16.28</td>\n",
       "      <td>-94.18</td>\n",
       "      <td>19.28</td>\n",
       "      <td>61</td>\n",
       "    </tr>\n",
       "    <tr>\n",
       "      <th>10</th>\n",
       "      <td>43.52</td>\n",
       "      <td>sasovo, ru</td>\n",
       "      <td>85</td>\n",
       "      <td>54.35</td>\n",
       "      <td>41.92</td>\n",
       "      <td>6.53</td>\n",
       "      <td>84</td>\n",
       "    </tr>\n",
       "    <tr>\n",
       "      <th>11</th>\n",
       "      <td>46.18</td>\n",
       "      <td>dubove, ua</td>\n",
       "      <td>93</td>\n",
       "      <td>48.17</td>\n",
       "      <td>23.89</td>\n",
       "      <td>4.70</td>\n",
       "      <td>100</td>\n",
       "    </tr>\n",
       "    <tr>\n",
       "      <th>12</th>\n",
       "      <td>44.96</td>\n",
       "      <td>motca, ro</td>\n",
       "      <td>94</td>\n",
       "      <td>47.25</td>\n",
       "      <td>26.62</td>\n",
       "      <td>1.74</td>\n",
       "      <td>100</td>\n",
       "    </tr>\n",
       "    <tr>\n",
       "      <th>13</th>\n",
       "      <td>68.00</td>\n",
       "      <td>deir hanna, il</td>\n",
       "      <td>78</td>\n",
       "      <td>32.86</td>\n",
       "      <td>35.36</td>\n",
       "      <td>0.63</td>\n",
       "      <td>1</td>\n",
       "    </tr>\n",
       "    <tr>\n",
       "      <th>14</th>\n",
       "      <td>50.97</td>\n",
       "      <td>richmond, us</td>\n",
       "      <td>23</td>\n",
       "      <td>37.55</td>\n",
       "      <td>-77.46</td>\n",
       "      <td>12.75</td>\n",
       "      <td>1</td>\n",
       "    </tr>\n",
       "    <tr>\n",
       "      <th>15</th>\n",
       "      <td>74.61</td>\n",
       "      <td>baleshwar, in</td>\n",
       "      <td>78</td>\n",
       "      <td>21.49</td>\n",
       "      <td>86.93</td>\n",
       "      <td>6.08</td>\n",
       "      <td>0</td>\n",
       "    </tr>\n",
       "    <tr>\n",
       "      <th>16</th>\n",
       "      <td>45.12</td>\n",
       "      <td>tomra, no</td>\n",
       "      <td>75</td>\n",
       "      <td>62.58</td>\n",
       "      <td>6.93</td>\n",
       "      <td>9.17</td>\n",
       "      <td>75</td>\n",
       "    </tr>\n",
       "    <tr>\n",
       "      <th>17</th>\n",
       "      <td>43.39</td>\n",
       "      <td>kresttsy, ru</td>\n",
       "      <td>88</td>\n",
       "      <td>58.25</td>\n",
       "      <td>32.52</td>\n",
       "      <td>9.46</td>\n",
       "      <td>100</td>\n",
       "    </tr>\n",
       "    <tr>\n",
       "      <th>18</th>\n",
       "      <td>53.53</td>\n",
       "      <td>zevio, it</td>\n",
       "      <td>100</td>\n",
       "      <td>45.37</td>\n",
       "      <td>11.13</td>\n",
       "      <td>2.86</td>\n",
       "      <td>75</td>\n",
       "    </tr>\n",
       "    <tr>\n",
       "      <th>19</th>\n",
       "      <td>42.93</td>\n",
       "      <td>swords, ie</td>\n",
       "      <td>75</td>\n",
       "      <td>53.46</td>\n",
       "      <td>-6.22</td>\n",
       "      <td>14.99</td>\n",
       "      <td>40</td>\n",
       "    </tr>\n",
       "  </tbody>\n",
       "</table>\n",
       "</div>"
      ],
      "text/plain": [
       "    Temperature          Locations  Humidity  Latitude  Longitude  Wind Speed  \\\n",
       "0         46.69  highland park, us        36     42.41     -83.10       19.46   \n",
       "1         55.40   puerto montt, cl        82    -41.47     -72.94        9.17   \n",
       "2         56.46   west memphis, us        26     35.15     -90.18        3.36   \n",
       "3         47.03        stanita, ro        76     47.02      27.10        2.24   \n",
       "4         50.18        turtkul, uz        39     41.55      61.00        7.16   \n",
       "5         75.20         aumbay, ph        94      7.10     125.78        3.36   \n",
       "6         50.83     saedinenie, bg        76     42.27      24.55        4.70   \n",
       "7         81.68        guaiuba, br        74     -4.03     -38.63       14.99   \n",
       "8         57.99         favara, it       100     37.32      13.65        1.99   \n",
       "9         81.81      chahuites, mx        58     16.28     -94.18       19.28   \n",
       "10        43.52         sasovo, ru        85     54.35      41.92        6.53   \n",
       "11        46.18         dubove, ua        93     48.17      23.89        4.70   \n",
       "12        44.96          motca, ro        94     47.25      26.62        1.74   \n",
       "13        68.00     deir hanna, il        78     32.86      35.36        0.63   \n",
       "14        50.97       richmond, us        23     37.55     -77.46       12.75   \n",
       "15        74.61      baleshwar, in        78     21.49      86.93        6.08   \n",
       "16        45.12          tomra, no        75     62.58       6.93        9.17   \n",
       "17        43.39       kresttsy, ru        88     58.25      32.52        9.46   \n",
       "18        53.53          zevio, it       100     45.37      11.13        2.86   \n",
       "19        42.93         swords, ie        75     53.46      -6.22       14.99   \n",
       "\n",
       "    Cloudiness  \n",
       "0           75  \n",
       "1           90  \n",
       "2            1  \n",
       "3            0  \n",
       "4            0  \n",
       "5           75  \n",
       "6           75  \n",
       "7            0  \n",
       "8            0  \n",
       "9           61  \n",
       "10          84  \n",
       "11         100  \n",
       "12         100  \n",
       "13           1  \n",
       "14           1  \n",
       "15           0  \n",
       "16          75  \n",
       "17         100  \n",
       "18          75  \n",
       "19          40  "
      ]
     },
     "execution_count": 26,
     "metadata": {},
     "output_type": "execute_result"
    }
   ],
   "source": [
    "# Make a new DataFrame equal to the city data to drop all humidity outliers by index.\n",
    "# Passing \"inplace=False\" will make a copy of the city_data DataFrame, which we call \"clean_city_data\".\n",
    "weather_df = weather_df.drop(indexes)\n",
    "weather_df"
   ]
  },
  {
   "cell_type": "code",
   "execution_count": 27,
   "metadata": {},
   "outputs": [],
   "source": [
    "weather_df.to_csv('weather.csv') \n"
   ]
  },
  {
   "cell_type": "markdown",
   "metadata": {},
   "source": [
    "## Plotting the Data\n",
    "* Use proper labeling of the plots using plot titles (including date of analysis) and axes labels.\n",
    "* Save the plotted figures as .pngs."
   ]
  },
  {
   "cell_type": "markdown",
   "metadata": {},
   "source": [
    "## Latitude vs. Temperature Plot"
   ]
  },
  {
   "cell_type": "code",
   "execution_count": 28,
   "metadata": {
    "scrolled": true
   },
   "outputs": [
    {
     "data": {
      "image/png": "[encoded data removed]",
      "text/plain": [
       "<Figure size 432x288 with 1 Axes>"
      ]
     },
     "metadata": {
      "needs_background": "light"
     },
     "output_type": "display_data"
    }
   ],
   "source": [
    "plt.scatter(weather_df['Latitude'],weather_df['Temperature'])\n",
    "plt.xlabel('Latitude')\n",
    "plt.ylabel('Temperature')\n",
    "plt.suptitle(\"Latitude vs Temperature plot\")\n",
    "plt.savefig(\"LatTempScatter.png\")\n",
    "plt.show()"
   ]
  },
  {
   "cell_type": "markdown",
   "metadata": {},
   "source": [
    "## Latitude vs. Humidity Plot"
   ]
  },
  {
   "cell_type": "code",
   "execution_count": 29,
   "metadata": {},
   "outputs": [
    {
     "data": {
      "image/png": "[encoded data removed]",
      "text/plain": [
       "<Figure size 432x288 with 1 Axes>"
      ]
     },
     "metadata": {
      "needs_background": "light"
     },
     "output_type": "display_data"
    }
   ],
   "source": [
    "plt.scatter(weather_df['Latitude'],weather_df['Humidity'])\n",
    "plt.xlabel('Latitude')\n",
    "plt.ylabel('Humidity')\n",
    "plt.suptitle(\"Latitude vs Humidity plot\")\n",
    "plt.savefig(\"LatHumidityScatter.png\")\n",
    "plt.show()"
   ]
  },
  {
   "cell_type": "markdown",
   "metadata": {},
   "source": [
    "## Latitude vs. Cloudiness Plot"
   ]
  },
  {
   "cell_type": "code",
   "execution_count": 30,
   "metadata": {},
   "outputs": [
    {
     "data": {
      "image/png": "[encoded data removed]",
      "text/plain": [
       "<Figure size 432x288 with 1 Axes>"
      ]
     },
     "metadata": {
      "needs_background": "light"
     },
     "output_type": "display_data"
    }
   ],
   "source": [
    "plt.scatter(weather_df['Latitude'],weather_df['Cloudiness'])\n",
    "plt.xlabel('Latitude')\n",
    "plt.ylabel('Cloudiness')\n",
    "plt.suptitle(\"Latitude vs Cloudiness plot\")\n",
    "plt.savefig(\"LatCloudinessScatter.png\")\n",
    "plt.show()"
   ]
  },
  {
   "cell_type": "markdown",
   "metadata": {},
   "source": [
    "## Latitude vs. Wind Speed Plot"
   ]
  },
  {
   "cell_type": "code",
   "execution_count": 31,
   "metadata": {},
   "outputs": [
    {
     "data": {
      "image/png": "[encoded data removed]",
      "text/plain": [
       "<Figure size 432x288 with 1 Axes>"
      ]
     },
     "metadata": {
      "needs_background": "light"
     },
     "output_type": "display_data"
    }
   ],
   "source": [
    "plt.scatter(weather_df['Latitude'],weather_df['Wind Speed'])\n",
    "plt.xlabel('Latitude')\n",
    "plt.ylabel('Wind Speed')\n",
    "plt.suptitle(\"Latitude vs Wind Speed plot\")\n",
    "plt.savefig(\"LatWindSpeedScatter.png\")\n",
    "plt.show()"
   ]
  },
  {
   "cell_type": "markdown",
   "metadata": {},
   "source": [
    "## Linear Regression"
   ]
  },
  {
   "cell_type": "code",
   "execution_count": 32,
   "metadata": {},
   "outputs": [],
   "source": [
    "#df.loc[df['shield'] > 35] = 0\n",
    "\n",
    "NorthernHemisphere = weather_df['Latitude'].loc[weather_df['Latitude'] >= 0]\n",
    "NorthernIndexes = NorthernHemisphere.index\n",
    "\n",
    "SouthernHemisphere = weather_df['Latitude'].loc[weather_df['Latitude'] < 0]\n",
    "SouthernIndexes = SouthernHemisphere.index\n"
   ]
  },
  {
   "cell_type": "markdown",
   "metadata": {},
   "source": [
    "####  Northern Hemisphere - Max Temp vs. Latitude Linear Regression"
   ]
  },
  {
   "cell_type": "code",
   "execution_count": 33,
   "metadata": {},
   "outputs": [
    {
     "name": "stdout",
     "output_type": "stream",
     "text": [
      "0     48.896354\n",
      "2     38.372453\n",
      "3     48.530118\n",
      "4     45.137049\n",
      "5     18.186383\n",
      "6     44.436892\n",
      "8     36.724391\n",
      "9     11.066323\n",
      "10    52.310967\n",
      "11    49.445709\n",
      "12    50.759850\n",
      "13    25.941970\n",
      "14    44.286089\n",
      "15    18.821910\n",
      "16    50.587503\n",
      "17    52.450999\n",
      "18    41.528546\n",
      "19    52.946494\n",
      "Name: Temperature, dtype: float64\n",
      "y = -1.08x +99.19\n"
     ]
    },
    {
     "data": {
      "image/png": "[encoded data removed]",
      "text/plain": [
       "<Figure size 432x288 with 1 Axes>"
      ]
     },
     "metadata": {
      "needs_background": "light"
     },
     "output_type": "display_data"
    }
   ],
   "source": [
    "plt.scatter(weather_df['Temperature'][NorthernIndexes],weather_df['Latitude'][NorthernIndexes])\n",
    "plt.xlabel('Temperature')\n",
    "plt.ylabel('Latitude')\n",
    "plt.suptitle(\"Northern Hemisphere Temperature vs Latitude Linear Regression plot\")\n",
    "\n",
    "(slope, intercept, rvalue, pvalue, stderr) = stats.linregress(weather_df['Temperature'][NorthernIndexes], \n",
    "                                            weather_df['Latitude'][NorthernIndexes])\n",
    "\n",
    "\n",
    "regress_values = weather_df['Temperature'][NorthernIndexes] * slope + intercept\n",
    "print(regress_values)\n",
    "\n",
    "line_eq = \"y = \" + str(round(slope,2)) + \"x +\" + str(round(intercept,2))\n",
    "print(line_eq)\n",
    "\n",
    "plt.show()"
   ]
  },
  {
   "cell_type": "markdown",
   "metadata": {},
   "source": [
    "####  Southern Hemisphere - Max Temp vs. Latitude Linear Regression"
   ]
  },
  {
   "cell_type": "code",
   "execution_count": 34,
   "metadata": {},
   "outputs": [
    {
     "name": "stdout",
     "output_type": "stream",
     "text": [
      "y = 1.42x +-120.4\n",
      "<class 'pandas.core.indexes.numeric.Int64Index'>\n"
     ]
    },
    {
     "data": {
      "image/png": "[encoded data removed]",
      "text/plain": [
       "<Figure size 432x288 with 1 Axes>"
      ]
     },
     "metadata": {
      "needs_background": "light"
     },
     "output_type": "display_data"
    }
   ],
   "source": [
    "plt.scatter(weather_df['Temperature'][SouthernIndexes],weather_df['Latitude'][SouthernIndexes])\n",
    "plt.xlabel('Temperature')\n",
    "plt.ylabel('Latitude')\n",
    "plt.suptitle(\"Southern Hemisphere Temperature vs Latitude Linear Regression plot\")\n",
    "\n",
    "\n",
    "(slope, intercept, rvalue, pvalue, stderr) = stats.linregress(weather_df['Temperature'][SouthernIndexes], \n",
    "                                            weather_df['Latitude'][SouthernIndexes])\n",
    "\n",
    " \n",
    "\n",
    "\n",
    "\n",
    "if math.isnan(slope):\n",
    "    equation1 = str(weather_df['Temperature'][SouthernIndexes])\n",
    "    equation1 = equation1.split(\" \")\n",
    "    print(equation1)\n",
    "    print(f\"x = {equation1[4]}\")\n",
    "else:\n",
    "    regress_values = weather_df['Temperature'][SouthernIndexes] * slope + intercept\n",
    "    line_eq = \"y = \" + str(round(slope,2)) + \"x +\" + str(round(intercept,2))\n",
    "    print(line_eq)\n",
    " \n",
    "print(type(weather_df['Temperature'][SouthernIndexes].index))\n",
    "plt.show()"
   ]
  },
  {
   "cell_type": "markdown",
   "metadata": {},
   "source": [
    "####  Northern Hemisphere - Humidity (%) vs. Latitude Linear Regression"
   ]
  },
  {
   "cell_type": "code",
   "execution_count": 35,
   "metadata": {},
   "outputs": [
    {
     "name": "stdout",
     "output_type": "stream",
     "text": [
      "0     38.244696\n",
      "2     37.594147\n",
      "3     40.846892\n",
      "4     38.439860\n",
      "5     42.017881\n",
      "6     40.846892\n",
      "8     42.408210\n",
      "9     39.675904\n",
      "10    41.432387\n",
      "11    41.952826\n",
      "12    42.017881\n",
      "13    40.977002\n",
      "14    37.398982\n",
      "15    40.977002\n",
      "16    40.781838\n",
      "17    41.627551\n",
      "18    42.408210\n",
      "19    40.781838\n",
      "Name: Humidity, dtype: float64\n",
      "y = 0.07x +35.9\n"
     ]
    },
    {
     "data": {
      "image/png": "[encoded data removed]",
      "text/plain": [
       "<Figure size 432x288 with 1 Axes>"
      ]
     },
     "metadata": {
      "needs_background": "light"
     },
     "output_type": "display_data"
    }
   ],
   "source": [
    "plt.scatter(weather_df['Humidity'][NorthernIndexes],weather_df['Latitude'][NorthernIndexes])\n",
    "plt.xlabel('Humidity')\n",
    "plt.ylabel('Latitude')\n",
    "plt.suptitle(\"Northern Hemisphere Humidity vs Latitude Linear Regression plot\")\n",
    "\n",
    "(slope, intercept, rvalue, pvalue, stderr) = stats.linregress(weather_df['Humidity'][NorthernIndexes], \n",
    "                                            weather_df['Latitude'][NorthernIndexes])\n",
    "\n",
    "regress_values = weather_df['Humidity'][NorthernIndexes] * slope + intercept\n",
    "print(regress_values)\n",
    "\n",
    "\n",
    "line_eq = \"y = \" + str(round(slope,2)) + \"x +\" + str(round(intercept,2))\n",
    "\n",
    "\n",
    "print(line_eq)\n",
    "\n",
    "plt.show()"
   ]
  },
  {
   "cell_type": "markdown",
   "metadata": {},
   "source": [
    "####  Southern Hemisphere - Humidity (%) vs. Latitude Linear Regression"
   ]
  },
  {
   "cell_type": "code",
   "execution_count": 36,
   "metadata": {},
   "outputs": [
    {
     "name": "stdout",
     "output_type": "stream",
     "text": [
      "y = -4.68x +342.29\n"
     ]
    },
    {
     "data": {
      "image/png": "[encoded data removed]",
      "text/plain": [
       "<Figure size 432x288 with 1 Axes>"
      ]
     },
     "metadata": {
      "needs_background": "light"
     },
     "output_type": "display_data"
    }
   ],
   "source": [
    "plt.scatter(weather_df['Humidity'][SouthernIndexes],weather_df['Latitude'][SouthernIndexes])\n",
    "plt.xlabel('Humidity')\n",
    "plt.ylabel('Latitude')\n",
    "plt.suptitle(\"Southern Hemisphere Humidity vs Latitude plot\")\n",
    "\n",
    "\n",
    "(slope, intercept, rvalue, pvalue, stderr) = stats.linregress(weather_df['Humidity'][SouthernIndexes], \n",
    "                                            weather_df['Latitude'][SouthernIndexes])\n",
    "\n",
    "\n",
    "\n",
    "\n",
    "\n",
    "if math.isnan(slope):\n",
    "    equation2 = str(weather_df['Temperature'][SouthernIndexes])\n",
    "    equation2 = equation2.split(\" \")\n",
    "    print(equation2)\n",
    "    print(f\"x = {equation2[4]}\")\n",
    "else:\n",
    "    regress_values = weather_df['Temperature'][SouthernIndexes] * slope + intercept\n",
    "    line_eq = \"y = \" + str(round(slope,2)) + \"x +\" + str(round(intercept,2))\n",
    "    print(line_eq)\n",
    "\n",
    "plt.show()"
   ]
  },
  {
   "cell_type": "markdown",
   "metadata": {},
   "source": [
    "####  Northern Hemisphere - Cloudiness (%) vs. Latitude Linear Regression"
   ]
  },
  {
   "cell_type": "code",
   "execution_count": 37,
   "metadata": {},
   "outputs": [
    {
     "name": "stdout",
     "output_type": "stream",
     "text": [
      "0     43.485843\n",
      "2     35.536514\n",
      "3     35.429091\n",
      "4     35.429091\n",
      "5     43.485843\n",
      "6     43.485843\n",
      "8     35.429091\n",
      "9     41.981916\n",
      "10    44.452654\n",
      "11    46.171428\n",
      "12    46.171428\n",
      "13    35.536514\n",
      "14    35.536514\n",
      "15    35.429091\n",
      "16    43.485843\n",
      "17    46.171428\n",
      "18    43.485843\n",
      "19    39.726025\n",
      "Name: Cloudiness, dtype: float64\n",
      "y = 0.11x +35.43\n"
     ]
    },
    {
     "data": {
      "image/png": "[encoded data removed]",
      "text/plain": [
       "<Figure size 432x288 with 1 Axes>"
      ]
     },
     "metadata": {
      "needs_background": "light"
     },
     "output_type": "display_data"
    }
   ],
   "source": [
    "plt.scatter(weather_df['Cloudiness'][NorthernIndexes],weather_df['Latitude'][NorthernIndexes])\n",
    "plt.xlabel('Cloudiness')\n",
    "plt.ylabel('Latitude')\n",
    "plt.suptitle(\"Northern Hemisphere Cloudiness vs Latitude Linear Regression plot\")\n",
    "\n",
    "\n",
    "(slope, intercept, rvalue, pvalue, stderr) = stats.linregress(weather_df['Cloudiness'][NorthernIndexes], \n",
    "                                            weather_df['Latitude'][NorthernIndexes])\n",
    "\n",
    "regress_values = weather_df['Cloudiness'][NorthernIndexes] * slope + intercept\n",
    "print(regress_values)\n",
    "\n",
    "\n",
    "line_eq = \"y = \" + str(round(slope,2)) + \"x +\" + str(round(intercept,2))\n",
    "\n",
    "\n",
    "print(line_eq)\n",
    "\n",
    "plt.show()"
   ]
  },
  {
   "cell_type": "markdown",
   "metadata": {},
   "source": [
    "####  Southern Hemisphere - Cloudiness (%) vs. Latitude Linear Regression"
   ]
  },
  {
   "cell_type": "code",
   "execution_count": 38,
   "metadata": {},
   "outputs": [
    {
     "name": "stdout",
     "output_type": "stream",
     "text": [
      "1   -41.47\n",
      "7    -4.03\n",
      "Name: Cloudiness, dtype: float64\n",
      "y = -0.42x +-4.03\n"
     ]
    },
    {
     "data": {
      "image/png": "[encoded data removed]",
      "text/plain": [
       "<Figure size 432x288 with 1 Axes>"
      ]
     },
     "metadata": {
      "needs_background": "light"
     },
     "output_type": "display_data"
    }
   ],
   "source": [
    "plt.scatter(weather_df['Cloudiness'][SouthernIndexes],weather_df['Latitude'][SouthernIndexes])\n",
    "plt.xlabel('Cloudiness')\n",
    "plt.ylabel('Latitude')\n",
    "plt.suptitle(\"Southern Hemisphere Cloudiness vs Latitude Linear Regression plot\")\n",
    "\n",
    "\n",
    "(slope, intercept, rvalue, pvalue, stderr) = stats.linregress(weather_df['Cloudiness'][SouthernIndexes], \n",
    "                                            weather_df['Latitude'][SouthernIndexes])\n",
    "\n",
    "regress_values = weather_df['Cloudiness'][SouthernIndexes] * slope + intercept\n",
    "print(regress_values)\n",
    "\n",
    " \n",
    " \n",
    "if math.isnan(slope):\n",
    "    equation3 = str(weather_df['Temperature'][SouthernIndexes])\n",
    "    equation3 = equation3.split(\" \")\n",
    "    print(equation3)\n",
    "    print(f\"x = {equation3[4]}\")\n",
    "else:\n",
    "    regress_values = weather_df['Temperature'][SouthernIndexes] * slope + intercept\n",
    "    line_eq = \"y = \" + str(round(slope,2)) + \"x +\" + str(round(intercept,2))\n",
    "    print(line_eq)\n",
    "plt.show()"
   ]
  },
  {
   "cell_type": "markdown",
   "metadata": {},
   "source": [
    "####  Northern Hemisphere - Wind Speed (mph) vs. Latitude Linear Regression"
   ]
  },
  {
   "cell_type": "code",
   "execution_count": 39,
   "metadata": {},
   "outputs": [
    {
     "name": "stdout",
     "output_type": "stream",
     "text": [
      "0     40.842366\n",
      "2     40.495743\n",
      "3     40.471630\n",
      "4     40.577555\n",
      "5     40.495743\n",
      "6     40.524592\n",
      "8     40.466248\n",
      "9     40.838491\n",
      "10    40.563991\n",
      "11    40.524592\n",
      "12    40.460865\n",
      "13    40.436968\n",
      "14    40.697904\n",
      "15    40.554303\n",
      "16    40.620829\n",
      "17    40.627072\n",
      "18    40.484978\n",
      "19    40.746130\n",
      "Name: Wind Speed, dtype: float64\n",
      "y = 0.02x +40.42\n"
     ]
    },
    {
     "data": {
      "image/png": "[encoded data removed]",
      "text/plain": [
       "<Figure size 432x288 with 1 Axes>"
      ]
     },
     "metadata": {
      "needs_background": "light"
     },
     "output_type": "display_data"
    }
   ],
   "source": [
    "plt.scatter(weather_df['Wind Speed'][NorthernIndexes],weather_df['Latitude'][NorthernIndexes])\n",
    "plt.xlabel('Wind Speed')\n",
    "plt.ylabel('Latitude')\n",
    "plt.suptitle(\"Northern Hemisphere Wind Speed vs Latitude Linear Regression plot\")\n",
    "\n",
    "\n",
    "(slope, intercept, rvalue, pvalue, stderr) = stats.linregress(weather_df['Wind Speed'][NorthernIndexes], \n",
    "                                            weather_df['Latitude'][NorthernIndexes])\n",
    "\n",
    "regress_values = weather_df['Wind Speed'][NorthernIndexes] * slope + intercept\n",
    "print(regress_values)\n",
    "\n",
    "\n",
    "line_eq = \"y = \" + str(round(slope,2)) + \"x +\" + str(round(intercept,2))\n",
    "print(line_eq)\n",
    "\n",
    "plt.show()"
   ]
  },
  {
   "cell_type": "markdown",
   "metadata": {},
   "source": [
    "####  Southern Hemisphere - Wind Speed (mph) vs. Latitude Linear Regression"
   ]
  },
  {
   "cell_type": "code",
   "execution_count": 40,
   "metadata": {},
   "outputs": [
    {
     "name": "stdout",
     "output_type": "stream",
     "text": [
      "y = 6.43x +-100.46\n"
     ]
    },
    {
     "data": {
      "image/png": "[encoded data removed]",
      "text/plain": [
       "<Figure size 432x288 with 1 Axes>"
      ]
     },
     "metadata": {
      "needs_background": "light"
     },
     "output_type": "display_data"
    }
   ],
   "source": [
    "plt.scatter(weather_df['Wind Speed'][SouthernIndexes],weather_df['Latitude'][SouthernIndexes])\n",
    "plt.xlabel('Wind Speed')\n",
    "plt.ylabel('Latitude')\n",
    "plt.suptitle(\"Southern Hemisphere Wind Speed vs Latitude Linear Regression plot\")\n",
    "\n",
    "\n",
    "(slope, intercept, rvalue, pvalue, stderr) = stats.linregress(weather_df['Wind Speed'][SouthernIndexes], \n",
    "                                            weather_df['Latitude'][SouthernIndexes])\n",
    "\n",
    "if math.isnan(slope):\n",
    "    equation4 = str(weather_df['Temperature'][SouthernIndexes])\n",
    "    equation4 = equation4.split(\" \")\n",
    "    print(equation4)\n",
    "    print(f\"x = {equation4[4]}\")\n",
    "else:\n",
    "    regress_values = weather_df['Temperature'][SouthernIndexes] * slope + intercept\n",
    "    line_eq = \"y = \" + str(round(slope,2)) + \"x +\" + str(round(intercept,2))\n",
    "    print(line_eq)\n",
    "plt.show()"
   ]
  },
  {
   "cell_type": "code",
   "execution_count": null,
   "metadata": {},
   "outputs": [],
   "source": []
  },
  {
   "cell_type": "code",
   "execution_count": null,
   "metadata": {},
   "outputs": [],
   "source": []
  }
 ],
 "metadata": {
  "anaconda-cloud": {},
  "kernel_info": {
   "name": "python3"
  },
  "kernelspec": {
   "display_name": "Python 3",
   "language": "python",
   "name": "python3"
  },
  "language_info": {
   "codemirror_mode": {
    "name": "ipython",
    "version": 3
   },
   "file_extension": ".py",
   "mimetype": "text/x-python",
   "name": "python",
   "nbconvert_exporter": "python",
   "pygments_lexer": "ipython3",
   "version": "3.8.3"
  },
  "latex_envs": {
   "LaTeX_envs_menu_present": true,
   "autoclose": false,
   "autocomplete": true,
   "bibliofile": "biblio.bib",
   "cite_by": "apalike",
   "current_citInitial": 1,
   "eqLabelWithNumbers": true,
   "eqNumInitial": 1,
   "hotkeys": {
    "equation": "Ctrl-E",
    "itemize": "Ctrl-I"
   },
   "labels_anchors": false,
   "latex_user_defs": false,
   "report_style_numbering": false,
   "user_envs_cfg": false
  },
  "nteract": {
   "version": "0.12.3"
  }
 },
 "nbformat": 4,
 "nbformat_minor": 2
}
