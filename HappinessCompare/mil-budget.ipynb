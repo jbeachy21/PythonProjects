{
 "metadata": {
  "language_info": {
   "codemirror_mode": {
    "name": "ipython",
    "version": 3
   },
   "file_extension": ".py",
   "mimetype": "text/x-python",
   "name": "python",
   "nbconvert_exporter": "python",
   "pygments_lexer": "ipython3",
   "version": "3.8.3-final"
  },
  "orig_nbformat": 2,
  "kernelspec": {
   "name": "python3",
   "display_name": "Python 3",
   "language": "python"
  }
 },
 "nbformat": 4,
 "nbformat_minor": 2,
 "cells": [
  {
   "cell_type": "code",
   "execution_count": 1,
   "metadata": {},
   "outputs": [
    {
     "output_type": "execute_result",
     "data": {
      "text/plain": [
       "         country    1960    1961    1962    1963    1964    1965    1966  \\\n",
       "0    Afghanistan     NaN     NaN     NaN     NaN     NaN     NaN     NaN   \n",
       "1        Albania     NaN     NaN     NaN     NaN     NaN     NaN     NaN   \n",
       "2        Algeria     NaN     NaN     NaN  0.0251  0.0350  0.0342  0.0351   \n",
       "3         Angola     NaN     NaN     NaN     NaN     NaN     NaN     NaN   \n",
       "4      Argentina  0.0155  0.0214  0.0266  0.0168  0.0115  0.0107  0.0117   \n",
       "..           ...     ...     ...     ...     ...     ...     ...     ...   \n",
       "160    Venezuela  0.0306  0.0142  0.0231  0.0255  0.0245  0.0264  0.0266   \n",
       "161      Vietnam     NaN     NaN     NaN     NaN     NaN     NaN     NaN   \n",
       "162        Yemen     NaN     NaN     NaN     NaN     NaN     NaN     NaN   \n",
       "163       Zambia     NaN     NaN     NaN     NaN     NaN     NaN     NaN   \n",
       "164     Zimbabwe     NaN     NaN     NaN     NaN     NaN  0.0119  0.0132   \n",
       "\n",
       "       1967    1968  ...     2010     2011     2012     2013     2014  \\\n",
       "0       NaN     NaN  ...  0.01950  0.01820  0.01180  0.01080  0.01300   \n",
       "1       NaN     NaN  ...  0.01560  0.01530  0.01490  0.01410  0.01350   \n",
       "2    0.0302  0.0261  ...  0.03520  0.04330  0.04460  0.04840  0.05550   \n",
       "3       NaN     NaN  ...  0.04180  0.03260  0.03240  0.04460  0.04700   \n",
       "4    0.0140  0.0169  ...  0.00815  0.00764  0.00785  0.00838  0.00878   \n",
       "..      ...     ...  ...      ...      ...      ...      ...      ...   \n",
       "160  0.0286  0.0268  ...  0.01010  0.01130  0.01340  0.01670  0.01160   \n",
       "161     NaN     NaN  ...  0.02310  0.01980      NaN      NaN      NaN   \n",
       "162     NaN     NaN  ...  0.04690  0.04930  0.04570  0.04080  0.03970   \n",
       "163     NaN     NaN  ...  0.01380  0.01320  0.01360  0.01360  0.01630   \n",
       "164  0.0136  0.0207  ...  0.00816  0.01410  0.01860  0.01870  0.01890   \n",
       "\n",
       "        2015     2016     2017     2018     2019  \n",
       "0    0.00995  0.00957  0.00945  0.01010  0.01170  \n",
       "1    0.01160  0.01100  0.01110  0.01170  0.01270  \n",
       "2    0.06270  0.06380  0.06010  0.05510  0.06010  \n",
       "3    0.03110  0.02730  0.02420  0.01810  0.01640  \n",
       "4    0.00850  0.00813  0.00856  0.00746  0.00707  \n",
       "..       ...      ...      ...      ...      ...  \n",
       "160  0.00941  0.00454  0.00488      NaN      NaN  \n",
       "161      NaN      NaN      NaN      NaN      NaN  \n",
       "162      NaN      NaN      NaN      NaN      NaN  \n",
       "163  0.01750  0.01430  0.01310  0.01420  0.01210  \n",
       "164  0.01890  0.01740  0.01540  0.01220  0.00699  \n",
       "\n",
       "[165 rows x 61 columns]"
      ],
      "text/html": "<div>\n<style scoped>\n    .dataframe tbody tr th:only-of-type {\n        vertical-align: middle;\n    }\n\n    .dataframe tbody tr th {\n        vertical-align: top;\n    }\n\n    .dataframe thead th {\n        text-align: right;\n    }\n</style>\n<table border=\"1\" class=\"dataframe\">\n  <thead>\n    <tr style=\"text-align: right;\">\n      <th></th>\n      <th>country</th>\n      <th>1960</th>\n      <th>1961</th>\n      <th>1962</th>\n      <th>1963</th>\n      <th>1964</th>\n      <th>1965</th>\n      <th>1966</th>\n      <th>1967</th>\n      <th>1968</th>\n      <th>...</th>\n      <th>2010</th>\n      <th>2011</th>\n      <th>2012</th>\n      <th>2013</th>\n      <th>2014</th>\n      <th>2015</th>\n      <th>2016</th>\n      <th>2017</th>\n      <th>2018</th>\n      <th>2019</th>\n    </tr>\n  </thead>\n  <tbody>\n    <tr>\n      <th>0</th>\n      <td>Afghanistan</td>\n      <td>NaN</td>\n      <td>NaN</td>\n      <td>NaN</td>\n      <td>NaN</td>\n      <td>NaN</td>\n      <td>NaN</td>\n      <td>NaN</td>\n      <td>NaN</td>\n      <td>NaN</td>\n      <td>...</td>\n      <td>0.01950</td>\n      <td>0.01820</td>\n      <td>0.01180</td>\n      <td>0.01080</td>\n      <td>0.01300</td>\n      <td>0.00995</td>\n      <td>0.00957</td>\n      <td>0.00945</td>\n      <td>0.01010</td>\n      <td>0.01170</td>\n    </tr>\n    <tr>\n      <th>1</th>\n      <td>Albania</td>\n      <td>NaN</td>\n      <td>NaN</td>\n      <td>NaN</td>\n      <td>NaN</td>\n      <td>NaN</td>\n      <td>NaN</td>\n      <td>NaN</td>\n      <td>NaN</td>\n      <td>NaN</td>\n      <td>...</td>\n      <td>0.01560</td>\n      <td>0.01530</td>\n      <td>0.01490</td>\n      <td>0.01410</td>\n      <td>0.01350</td>\n      <td>0.01160</td>\n      <td>0.01100</td>\n      <td>0.01110</td>\n      <td>0.01170</td>\n      <td>0.01270</td>\n    </tr>\n    <tr>\n      <th>2</th>\n      <td>Algeria</td>\n      <td>NaN</td>\n      <td>NaN</td>\n      <td>NaN</td>\n      <td>0.0251</td>\n      <td>0.0350</td>\n      <td>0.0342</td>\n      <td>0.0351</td>\n      <td>0.0302</td>\n      <td>0.0261</td>\n      <td>...</td>\n      <td>0.03520</td>\n      <td>0.04330</td>\n      <td>0.04460</td>\n      <td>0.04840</td>\n      <td>0.05550</td>\n      <td>0.06270</td>\n      <td>0.06380</td>\n      <td>0.06010</td>\n      <td>0.05510</td>\n      <td>0.06010</td>\n    </tr>\n    <tr>\n      <th>3</th>\n      <td>Angola</td>\n      <td>NaN</td>\n      <td>NaN</td>\n      <td>NaN</td>\n      <td>NaN</td>\n      <td>NaN</td>\n      <td>NaN</td>\n      <td>NaN</td>\n      <td>NaN</td>\n      <td>NaN</td>\n      <td>...</td>\n      <td>0.04180</td>\n      <td>0.03260</td>\n      <td>0.03240</td>\n      <td>0.04460</td>\n      <td>0.04700</td>\n      <td>0.03110</td>\n      <td>0.02730</td>\n      <td>0.02420</td>\n      <td>0.01810</td>\n      <td>0.01640</td>\n    </tr>\n    <tr>\n      <th>4</th>\n      <td>Argentina</td>\n      <td>0.0155</td>\n      <td>0.0214</td>\n      <td>0.0266</td>\n      <td>0.0168</td>\n      <td>0.0115</td>\n      <td>0.0107</td>\n      <td>0.0117</td>\n      <td>0.0140</td>\n      <td>0.0169</td>\n      <td>...</td>\n      <td>0.00815</td>\n      <td>0.00764</td>\n      <td>0.00785</td>\n      <td>0.00838</td>\n      <td>0.00878</td>\n      <td>0.00850</td>\n      <td>0.00813</td>\n      <td>0.00856</td>\n      <td>0.00746</td>\n      <td>0.00707</td>\n    </tr>\n    <tr>\n      <th>...</th>\n      <td>...</td>\n      <td>...</td>\n      <td>...</td>\n      <td>...</td>\n      <td>...</td>\n      <td>...</td>\n      <td>...</td>\n      <td>...</td>\n      <td>...</td>\n      <td>...</td>\n      <td>...</td>\n      <td>...</td>\n      <td>...</td>\n      <td>...</td>\n      <td>...</td>\n      <td>...</td>\n      <td>...</td>\n      <td>...</td>\n      <td>...</td>\n      <td>...</td>\n      <td>...</td>\n    </tr>\n    <tr>\n      <th>160</th>\n      <td>Venezuela</td>\n      <td>0.0306</td>\n      <td>0.0142</td>\n      <td>0.0231</td>\n      <td>0.0255</td>\n      <td>0.0245</td>\n      <td>0.0264</td>\n      <td>0.0266</td>\n      <td>0.0286</td>\n      <td>0.0268</td>\n      <td>...</td>\n      <td>0.01010</td>\n      <td>0.01130</td>\n      <td>0.01340</td>\n      <td>0.01670</td>\n      <td>0.01160</td>\n      <td>0.00941</td>\n      <td>0.00454</td>\n      <td>0.00488</td>\n      <td>NaN</td>\n      <td>NaN</td>\n    </tr>\n    <tr>\n      <th>161</th>\n      <td>Vietnam</td>\n      <td>NaN</td>\n      <td>NaN</td>\n      <td>NaN</td>\n      <td>NaN</td>\n      <td>NaN</td>\n      <td>NaN</td>\n      <td>NaN</td>\n      <td>NaN</td>\n      <td>NaN</td>\n      <td>...</td>\n      <td>0.02310</td>\n      <td>0.01980</td>\n      <td>NaN</td>\n      <td>NaN</td>\n      <td>NaN</td>\n      <td>NaN</td>\n      <td>NaN</td>\n      <td>NaN</td>\n      <td>NaN</td>\n      <td>NaN</td>\n    </tr>\n    <tr>\n      <th>162</th>\n      <td>Yemen</td>\n      <td>NaN</td>\n      <td>NaN</td>\n      <td>NaN</td>\n      <td>NaN</td>\n      <td>NaN</td>\n      <td>NaN</td>\n      <td>NaN</td>\n      <td>NaN</td>\n      <td>NaN</td>\n      <td>...</td>\n      <td>0.04690</td>\n      <td>0.04930</td>\n      <td>0.04570</td>\n      <td>0.04080</td>\n      <td>0.03970</td>\n      <td>NaN</td>\n      <td>NaN</td>\n      <td>NaN</td>\n      <td>NaN</td>\n      <td>NaN</td>\n    </tr>\n    <tr>\n      <th>163</th>\n      <td>Zambia</td>\n      <td>NaN</td>\n      <td>NaN</td>\n      <td>NaN</td>\n      <td>NaN</td>\n      <td>NaN</td>\n      <td>NaN</td>\n      <td>NaN</td>\n      <td>NaN</td>\n      <td>NaN</td>\n      <td>...</td>\n      <td>0.01380</td>\n      <td>0.01320</td>\n      <td>0.01360</td>\n      <td>0.01360</td>\n      <td>0.01630</td>\n      <td>0.01750</td>\n      <td>0.01430</td>\n      <td>0.01310</td>\n      <td>0.01420</td>\n      <td>0.01210</td>\n    </tr>\n    <tr>\n      <th>164</th>\n      <td>Zimbabwe</td>\n      <td>NaN</td>\n      <td>NaN</td>\n      <td>NaN</td>\n      <td>NaN</td>\n      <td>NaN</td>\n      <td>0.0119</td>\n      <td>0.0132</td>\n      <td>0.0136</td>\n      <td>0.0207</td>\n      <td>...</td>\n      <td>0.00816</td>\n      <td>0.01410</td>\n      <td>0.01860</td>\n      <td>0.01870</td>\n      <td>0.01890</td>\n      <td>0.01890</td>\n      <td>0.01740</td>\n      <td>0.01540</td>\n      <td>0.01220</td>\n      <td>0.00699</td>\n    </tr>\n  </tbody>\n</table>\n<p>165 rows × 61 columns</p>\n</div>"
     },
     "metadata": {},
     "execution_count": 1
    }
   ],
   "source": [
    "import pandas as pd\n",
    "\n",
    "mil_datapath = \"Datasets/military_expenditure_percent_of_gdp.csv\"\n",
    "mil_datapath_clean = \"Clean_Datasets/Mil_Percent_GDP.csv\"\n",
    "\n",
    "mil_data = pd.read_csv(mil_datapath)\n",
    "mil_data"
   ]
  },
  {
   "cell_type": "code",
   "execution_count": 8,
   "metadata": {},
   "outputs": [
    {
     "output_type": "execute_result",
     "data": {
      "text/plain": [
       "            Country     2015     2016     2017     2018     2019\n",
       "0       Afghanistan  0.00995  0.00957  0.00945  0.01010  0.01170\n",
       "1           Albania  0.01160  0.01100  0.01110  0.01170  0.01270\n",
       "2           Algeria  0.06270  0.06380  0.06010  0.05510  0.06010\n",
       "3            Angola  0.03110  0.02730  0.02420  0.01810  0.01640\n",
       "4         Argentina  0.00850  0.00813  0.00856  0.00746  0.00707\n",
       "..              ...      ...      ...      ...      ...      ...\n",
       "156  United Kingdom  0.01860  0.01810  0.01770  0.01770  0.01740\n",
       "157   United States  0.03480  0.03420  0.03310  0.03320  0.03410\n",
       "158         Uruguay  0.01820  0.01870  0.01960  0.02130  0.02020\n",
       "163          Zambia  0.01750  0.01430  0.01310  0.01420  0.01210\n",
       "164        Zimbabwe  0.01890  0.01740  0.01540  0.01220  0.00699\n",
       "\n",
       "[144 rows x 6 columns]"
      ],
      "text/html": "<div>\n<style scoped>\n    .dataframe tbody tr th:only-of-type {\n        vertical-align: middle;\n    }\n\n    .dataframe tbody tr th {\n        vertical-align: top;\n    }\n\n    .dataframe thead th {\n        text-align: right;\n    }\n</style>\n<table border=\"1\" class=\"dataframe\">\n  <thead>\n    <tr style=\"text-align: right;\">\n      <th></th>\n      <th>Country</th>\n      <th>2015</th>\n      <th>2016</th>\n      <th>2017</th>\n      <th>2018</th>\n      <th>2019</th>\n    </tr>\n  </thead>\n  <tbody>\n    <tr>\n      <th>0</th>\n      <td>Afghanistan</td>\n      <td>0.00995</td>\n      <td>0.00957</td>\n      <td>0.00945</td>\n      <td>0.01010</td>\n      <td>0.01170</td>\n    </tr>\n    <tr>\n      <th>1</th>\n      <td>Albania</td>\n      <td>0.01160</td>\n      <td>0.01100</td>\n      <td>0.01110</td>\n      <td>0.01170</td>\n      <td>0.01270</td>\n    </tr>\n    <tr>\n      <th>2</th>\n      <td>Algeria</td>\n      <td>0.06270</td>\n      <td>0.06380</td>\n      <td>0.06010</td>\n      <td>0.05510</td>\n      <td>0.06010</td>\n    </tr>\n    <tr>\n      <th>3</th>\n      <td>Angola</td>\n      <td>0.03110</td>\n      <td>0.02730</td>\n      <td>0.02420</td>\n      <td>0.01810</td>\n      <td>0.01640</td>\n    </tr>\n    <tr>\n      <th>4</th>\n      <td>Argentina</td>\n      <td>0.00850</td>\n      <td>0.00813</td>\n      <td>0.00856</td>\n      <td>0.00746</td>\n      <td>0.00707</td>\n    </tr>\n    <tr>\n      <th>...</th>\n      <td>...</td>\n      <td>...</td>\n      <td>...</td>\n      <td>...</td>\n      <td>...</td>\n      <td>...</td>\n    </tr>\n    <tr>\n      <th>156</th>\n      <td>United Kingdom</td>\n      <td>0.01860</td>\n      <td>0.01810</td>\n      <td>0.01770</td>\n      <td>0.01770</td>\n      <td>0.01740</td>\n    </tr>\n    <tr>\n      <th>157</th>\n      <td>United States</td>\n      <td>0.03480</td>\n      <td>0.03420</td>\n      <td>0.03310</td>\n      <td>0.03320</td>\n      <td>0.03410</td>\n    </tr>\n    <tr>\n      <th>158</th>\n      <td>Uruguay</td>\n      <td>0.01820</td>\n      <td>0.01870</td>\n      <td>0.01960</td>\n      <td>0.02130</td>\n      <td>0.02020</td>\n    </tr>\n    <tr>\n      <th>163</th>\n      <td>Zambia</td>\n      <td>0.01750</td>\n      <td>0.01430</td>\n      <td>0.01310</td>\n      <td>0.01420</td>\n      <td>0.01210</td>\n    </tr>\n    <tr>\n      <th>164</th>\n      <td>Zimbabwe</td>\n      <td>0.01890</td>\n      <td>0.01740</td>\n      <td>0.01540</td>\n      <td>0.01220</td>\n      <td>0.00699</td>\n    </tr>\n  </tbody>\n</table>\n<p>144 rows × 6 columns</p>\n</div>"
     },
     "metadata": {},
     "execution_count": 8
    }
   ],
   "source": [
    "mil_data_years = mil_data[['country','2015','2016','2017','2018','2019']]\n",
    "mil_data_years = mil_data_years.rename(columns={'country': 'Country'})\n",
    "mil_data_clean = mil_data_years.dropna(axis=0, how='any')\n",
    "mil_data_clean"
   ]
  },
  {
   "cell_type": "code",
   "execution_count": 9,
   "metadata": {},
   "outputs": [],
   "source": [
    "mil_data_clean.to_csv(mil_datapath_clean)\n",
    "\n"
   ]
  },
  {
   "cell_type": "code",
   "execution_count": null,
   "metadata": {},
   "outputs": [],
   "source": []
  }
 ]
}