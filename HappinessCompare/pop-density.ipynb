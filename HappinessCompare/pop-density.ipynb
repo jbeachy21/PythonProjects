{
 "metadata": {
  "language_info": {
   "codemirror_mode": {
    "name": "ipython",
    "version": 3
   },
   "file_extension": ".py",
   "mimetype": "text/x-python",
   "name": "python",
   "nbconvert_exporter": "python",
   "pygments_lexer": "ipython3",
   "version": "3.8.3-final"
  },
  "orig_nbformat": 2,
  "kernelspec": {
   "name": "python3",
   "display_name": "Python 3",
   "language": "python"
  }
 },
 "nbformat": 4,
 "nbformat_minor": 2,
 "cells": [
  {
   "cell_type": "code",
   "execution_count": 4,
   "metadata": {},
   "outputs": [
    {
     "output_type": "execute_result",
     "data": {
      "text/plain": [
       "         country   1950   1951   1952   1953   1954   1955   1956   1957  \\\n",
       "0    Afghanistan  11.90  12.00  12.20  12.30  12.50  12.70  12.90  13.10   \n",
       "1        Albania  46.10  47.00  48.00  49.20  50.50  51.80  53.30  54.80   \n",
       "2        Algeria   3.73   3.79   3.86   3.93   4.01   4.10   4.20   4.31   \n",
       "3        Andorra  13.20  14.20  15.40  16.70  18.20  19.60  21.20  22.90   \n",
       "4         Angola   3.65   3.70   3.78   3.87   3.96   4.05   4.12   4.19   \n",
       "..           ...    ...    ...    ...    ...    ...    ...    ...    ...   \n",
       "190    Venezuela   6.22   6.49   6.77   7.06   7.35   7.65   7.95   8.26   \n",
       "191      Vietnam  80.00  81.80  83.80  85.90  88.30  90.80  93.40  96.20   \n",
       "192        Yemen   8.83   8.93   9.05   9.16   9.28   9.41   9.53   9.66   \n",
       "193       Zambia   3.11   3.19   3.27   3.36   3.46   3.56   3.66   3.77   \n",
       "194     Zimbabwe   7.10   7.32   7.55   7.80   8.05   8.31   8.58   8.85   \n",
       "\n",
       "      1958  ...   2091   2092   2093   2094   2095   2096   2097   2098  \\\n",
       "0    13.30  ...  117.0  117.0  117.0  117.0  116.0  116.0  116.0  115.0   \n",
       "1    56.30  ...   48.5   47.5   46.5   45.5   44.5   43.5   42.5   41.6   \n",
       "2     4.41  ...   29.6   29.6   29.6   29.6   29.7   29.7   29.7   29.7   \n",
       "3    24.70  ...  134.0  134.0  134.0  134.0  133.0  133.0  133.0  133.0   \n",
       "4     4.26  ...  135.0  136.0  138.0  140.0  142.0  144.0  146.0  147.0   \n",
       "..     ...  ...    ...    ...    ...    ...    ...    ...    ...    ...   \n",
       "190   8.58  ...   40.2   40.1   39.9   39.8   39.6   39.5   39.3   39.2   \n",
       "191  99.20  ...  324.0  323.0  322.0  321.0  320.0  319.0  317.0  316.0   \n",
       "192   9.79  ...  103.0  103.0  103.0  103.0  102.0  102.0  102.0  101.0   \n",
       "193   3.89  ...  100.0  101.0  102.0  103.0  104.0  106.0  107.0  108.0   \n",
       "194   9.14  ...   79.7   79.7   79.8   79.9   79.9   80.0   80.0   80.0   \n",
       "\n",
       "      2099   2100  \n",
       "0    115.0  115.0  \n",
       "1     40.6   39.7  \n",
       "2     29.7   29.7  \n",
       "3    133.0  133.0  \n",
       "4    149.0  151.0  \n",
       "..     ...    ...  \n",
       "190   39.0   38.8  \n",
       "191  315.0  314.0  \n",
       "192  101.0  101.0  \n",
       "193  109.0  110.0  \n",
       "194   80.0   80.0  \n",
       "\n",
       "[195 rows x 152 columns]"
      ],
      "text/html": "<div>\n<style scoped>\n    .dataframe tbody tr th:only-of-type {\n        vertical-align: middle;\n    }\n\n    .dataframe tbody tr th {\n        vertical-align: top;\n    }\n\n    .dataframe thead th {\n        text-align: right;\n    }\n</style>\n<table border=\"1\" class=\"dataframe\">\n  <thead>\n    <tr style=\"text-align: right;\">\n      <th></th>\n      <th>country</th>\n      <th>1950</th>\n      <th>1951</th>\n      <th>1952</th>\n      <th>1953</th>\n      <th>1954</th>\n      <th>1955</th>\n      <th>1956</th>\n      <th>1957</th>\n      <th>1958</th>\n      <th>...</th>\n      <th>2091</th>\n      <th>2092</th>\n      <th>2093</th>\n      <th>2094</th>\n      <th>2095</th>\n      <th>2096</th>\n      <th>2097</th>\n      <th>2098</th>\n      <th>2099</th>\n      <th>2100</th>\n    </tr>\n  </thead>\n  <tbody>\n    <tr>\n      <th>0</th>\n      <td>Afghanistan</td>\n      <td>11.90</td>\n      <td>12.00</td>\n      <td>12.20</td>\n      <td>12.30</td>\n      <td>12.50</td>\n      <td>12.70</td>\n      <td>12.90</td>\n      <td>13.10</td>\n      <td>13.30</td>\n      <td>...</td>\n      <td>117.0</td>\n      <td>117.0</td>\n      <td>117.0</td>\n      <td>117.0</td>\n      <td>116.0</td>\n      <td>116.0</td>\n      <td>116.0</td>\n      <td>115.0</td>\n      <td>115.0</td>\n      <td>115.0</td>\n    </tr>\n    <tr>\n      <th>1</th>\n      <td>Albania</td>\n      <td>46.10</td>\n      <td>47.00</td>\n      <td>48.00</td>\n      <td>49.20</td>\n      <td>50.50</td>\n      <td>51.80</td>\n      <td>53.30</td>\n      <td>54.80</td>\n      <td>56.30</td>\n      <td>...</td>\n      <td>48.5</td>\n      <td>47.5</td>\n      <td>46.5</td>\n      <td>45.5</td>\n      <td>44.5</td>\n      <td>43.5</td>\n      <td>42.5</td>\n      <td>41.6</td>\n      <td>40.6</td>\n      <td>39.7</td>\n    </tr>\n    <tr>\n      <th>2</th>\n      <td>Algeria</td>\n      <td>3.73</td>\n      <td>3.79</td>\n      <td>3.86</td>\n      <td>3.93</td>\n      <td>4.01</td>\n      <td>4.10</td>\n      <td>4.20</td>\n      <td>4.31</td>\n      <td>4.41</td>\n      <td>...</td>\n      <td>29.6</td>\n      <td>29.6</td>\n      <td>29.6</td>\n      <td>29.6</td>\n      <td>29.7</td>\n      <td>29.7</td>\n      <td>29.7</td>\n      <td>29.7</td>\n      <td>29.7</td>\n      <td>29.7</td>\n    </tr>\n    <tr>\n      <th>3</th>\n      <td>Andorra</td>\n      <td>13.20</td>\n      <td>14.20</td>\n      <td>15.40</td>\n      <td>16.70</td>\n      <td>18.20</td>\n      <td>19.60</td>\n      <td>21.20</td>\n      <td>22.90</td>\n      <td>24.70</td>\n      <td>...</td>\n      <td>134.0</td>\n      <td>134.0</td>\n      <td>134.0</td>\n      <td>134.0</td>\n      <td>133.0</td>\n      <td>133.0</td>\n      <td>133.0</td>\n      <td>133.0</td>\n      <td>133.0</td>\n      <td>133.0</td>\n    </tr>\n    <tr>\n      <th>4</th>\n      <td>Angola</td>\n      <td>3.65</td>\n      <td>3.70</td>\n      <td>3.78</td>\n      <td>3.87</td>\n      <td>3.96</td>\n      <td>4.05</td>\n      <td>4.12</td>\n      <td>4.19</td>\n      <td>4.26</td>\n      <td>...</td>\n      <td>135.0</td>\n      <td>136.0</td>\n      <td>138.0</td>\n      <td>140.0</td>\n      <td>142.0</td>\n      <td>144.0</td>\n      <td>146.0</td>\n      <td>147.0</td>\n      <td>149.0</td>\n      <td>151.0</td>\n    </tr>\n    <tr>\n      <th>...</th>\n      <td>...</td>\n      <td>...</td>\n      <td>...</td>\n      <td>...</td>\n      <td>...</td>\n      <td>...</td>\n      <td>...</td>\n      <td>...</td>\n      <td>...</td>\n      <td>...</td>\n      <td>...</td>\n      <td>...</td>\n      <td>...</td>\n      <td>...</td>\n      <td>...</td>\n      <td>...</td>\n      <td>...</td>\n      <td>...</td>\n      <td>...</td>\n      <td>...</td>\n      <td>...</td>\n    </tr>\n    <tr>\n      <th>190</th>\n      <td>Venezuela</td>\n      <td>6.22</td>\n      <td>6.49</td>\n      <td>6.77</td>\n      <td>7.06</td>\n      <td>7.35</td>\n      <td>7.65</td>\n      <td>7.95</td>\n      <td>8.26</td>\n      <td>8.58</td>\n      <td>...</td>\n      <td>40.2</td>\n      <td>40.1</td>\n      <td>39.9</td>\n      <td>39.8</td>\n      <td>39.6</td>\n      <td>39.5</td>\n      <td>39.3</td>\n      <td>39.2</td>\n      <td>39.0</td>\n      <td>38.8</td>\n    </tr>\n    <tr>\n      <th>191</th>\n      <td>Vietnam</td>\n      <td>80.00</td>\n      <td>81.80</td>\n      <td>83.80</td>\n      <td>85.90</td>\n      <td>88.30</td>\n      <td>90.80</td>\n      <td>93.40</td>\n      <td>96.20</td>\n      <td>99.20</td>\n      <td>...</td>\n      <td>324.0</td>\n      <td>323.0</td>\n      <td>322.0</td>\n      <td>321.0</td>\n      <td>320.0</td>\n      <td>319.0</td>\n      <td>317.0</td>\n      <td>316.0</td>\n      <td>315.0</td>\n      <td>314.0</td>\n    </tr>\n    <tr>\n      <th>192</th>\n      <td>Yemen</td>\n      <td>8.83</td>\n      <td>8.93</td>\n      <td>9.05</td>\n      <td>9.16</td>\n      <td>9.28</td>\n      <td>9.41</td>\n      <td>9.53</td>\n      <td>9.66</td>\n      <td>9.79</td>\n      <td>...</td>\n      <td>103.0</td>\n      <td>103.0</td>\n      <td>103.0</td>\n      <td>103.0</td>\n      <td>102.0</td>\n      <td>102.0</td>\n      <td>102.0</td>\n      <td>101.0</td>\n      <td>101.0</td>\n      <td>101.0</td>\n    </tr>\n    <tr>\n      <th>193</th>\n      <td>Zambia</td>\n      <td>3.11</td>\n      <td>3.19</td>\n      <td>3.27</td>\n      <td>3.36</td>\n      <td>3.46</td>\n      <td>3.56</td>\n      <td>3.66</td>\n      <td>3.77</td>\n      <td>3.89</td>\n      <td>...</td>\n      <td>100.0</td>\n      <td>101.0</td>\n      <td>102.0</td>\n      <td>103.0</td>\n      <td>104.0</td>\n      <td>106.0</td>\n      <td>107.0</td>\n      <td>108.0</td>\n      <td>109.0</td>\n      <td>110.0</td>\n    </tr>\n    <tr>\n      <th>194</th>\n      <td>Zimbabwe</td>\n      <td>7.10</td>\n      <td>7.32</td>\n      <td>7.55</td>\n      <td>7.80</td>\n      <td>8.05</td>\n      <td>8.31</td>\n      <td>8.58</td>\n      <td>8.85</td>\n      <td>9.14</td>\n      <td>...</td>\n      <td>79.7</td>\n      <td>79.7</td>\n      <td>79.8</td>\n      <td>79.9</td>\n      <td>79.9</td>\n      <td>80.0</td>\n      <td>80.0</td>\n      <td>80.0</td>\n      <td>80.0</td>\n      <td>80.0</td>\n    </tr>\n  </tbody>\n</table>\n<p>195 rows × 152 columns</p>\n</div>"
     },
     "metadata": {},
     "execution_count": 4
    }
   ],
   "source": [
    "import pandas as pd\n",
    "\n",
    "pdensity_filepath = 'Datasets/population_density_per_square_km.csv'\n",
    "pdensity = pd.read_csv(pdensity_filepath)\n",
    "\n",
    "pdensity"
   ]
  },
  {
   "cell_type": "code",
   "execution_count": 5,
   "metadata": {},
   "outputs": [
    {
     "output_type": "execute_result",
     "data": {
      "text/plain": [
       "         Country   2015   2016   2017   2018   2019\n",
       "0    Afghanistan   52.7   54.2   55.6   56.9   58.3\n",
       "1        Albania  105.0  105.0  105.0  105.0  105.0\n",
       "2        Algeria   16.7   17.0   17.4   17.7   18.1\n",
       "3        Andorra  166.0  164.0  164.0  164.0  164.0\n",
       "4         Angola   22.4   23.1   23.9   24.7   25.5\n",
       "..           ...    ...    ...    ...    ...    ...\n",
       "190    Venezuela   34.1   33.8   33.3   32.7   32.3\n",
       "191      Vietnam  299.0  302.0  305.0  308.0  311.0\n",
       "192        Yemen   50.2   51.5   52.7   54.0   55.2\n",
       "193       Zambia   21.4   22.0   22.7   23.3   24.0\n",
       "194     Zimbabwe   35.7   36.3   36.8   37.3   37.9\n",
       "\n",
       "[195 rows x 6 columns]"
      ],
      "text/html": "<div>\n<style scoped>\n    .dataframe tbody tr th:only-of-type {\n        vertical-align: middle;\n    }\n\n    .dataframe tbody tr th {\n        vertical-align: top;\n    }\n\n    .dataframe thead th {\n        text-align: right;\n    }\n</style>\n<table border=\"1\" class=\"dataframe\">\n  <thead>\n    <tr style=\"text-align: right;\">\n      <th></th>\n      <th>Country</th>\n      <th>2015</th>\n      <th>2016</th>\n      <th>2017</th>\n      <th>2018</th>\n      <th>2019</th>\n    </tr>\n  </thead>\n  <tbody>\n    <tr>\n      <th>0</th>\n      <td>Afghanistan</td>\n      <td>52.7</td>\n      <td>54.2</td>\n      <td>55.6</td>\n      <td>56.9</td>\n      <td>58.3</td>\n    </tr>\n    <tr>\n      <th>1</th>\n      <td>Albania</td>\n      <td>105.0</td>\n      <td>105.0</td>\n      <td>105.0</td>\n      <td>105.0</td>\n      <td>105.0</td>\n    </tr>\n    <tr>\n      <th>2</th>\n      <td>Algeria</td>\n      <td>16.7</td>\n      <td>17.0</td>\n      <td>17.4</td>\n      <td>17.7</td>\n      <td>18.1</td>\n    </tr>\n    <tr>\n      <th>3</th>\n      <td>Andorra</td>\n      <td>166.0</td>\n      <td>164.0</td>\n      <td>164.0</td>\n      <td>164.0</td>\n      <td>164.0</td>\n    </tr>\n    <tr>\n      <th>4</th>\n      <td>Angola</td>\n      <td>22.4</td>\n      <td>23.1</td>\n      <td>23.9</td>\n      <td>24.7</td>\n      <td>25.5</td>\n    </tr>\n    <tr>\n      <th>...</th>\n      <td>...</td>\n      <td>...</td>\n      <td>...</td>\n      <td>...</td>\n      <td>...</td>\n      <td>...</td>\n    </tr>\n    <tr>\n      <th>190</th>\n      <td>Venezuela</td>\n      <td>34.1</td>\n      <td>33.8</td>\n      <td>33.3</td>\n      <td>32.7</td>\n      <td>32.3</td>\n    </tr>\n    <tr>\n      <th>191</th>\n      <td>Vietnam</td>\n      <td>299.0</td>\n      <td>302.0</td>\n      <td>305.0</td>\n      <td>308.0</td>\n      <td>311.0</td>\n    </tr>\n    <tr>\n      <th>192</th>\n      <td>Yemen</td>\n      <td>50.2</td>\n      <td>51.5</td>\n      <td>52.7</td>\n      <td>54.0</td>\n      <td>55.2</td>\n    </tr>\n    <tr>\n      <th>193</th>\n      <td>Zambia</td>\n      <td>21.4</td>\n      <td>22.0</td>\n      <td>22.7</td>\n      <td>23.3</td>\n      <td>24.0</td>\n    </tr>\n    <tr>\n      <th>194</th>\n      <td>Zimbabwe</td>\n      <td>35.7</td>\n      <td>36.3</td>\n      <td>36.8</td>\n      <td>37.3</td>\n      <td>37.9</td>\n    </tr>\n  </tbody>\n</table>\n<p>195 rows × 6 columns</p>\n</div>"
     },
     "metadata": {},
     "execution_count": 5
    }
   ],
   "source": [
    "pdensity = pdensity[['country','2015','2016','2017','2018','2019']]\n",
    "pdensity = pdensity.rename(columns={'country': 'Country'})\n",
    "\n",
    "pdensity"
   ]
  },
  {
   "cell_type": "code",
   "execution_count": 6,
   "metadata": {},
   "outputs": [],
   "source": [
    "pdensity.to_csv('Clean_Datasets/Population_Density.csv')"
   ]
  },
  {
   "cell_type": "code",
   "execution_count": null,
   "metadata": {},
   "outputs": [],
   "source": []
  }
 ]
}