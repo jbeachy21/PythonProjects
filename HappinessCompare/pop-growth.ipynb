{
 "metadata": {
  "language_info": {
   "codemirror_mode": {
    "name": "ipython",
    "version": 3
   },
   "file_extension": ".py",
   "mimetype": "text/x-python",
   "name": "python",
   "nbconvert_exporter": "python",
   "pygments_lexer": "ipython3",
   "version": "3.8.3-final"
  },
  "orig_nbformat": 2,
  "kernelspec": {
   "name": "python3",
   "display_name": "Python 3",
   "language": "python"
  }
 },
 "nbformat": 4,
 "nbformat_minor": 2,
 "cells": [
  {
   "cell_type": "code",
   "execution_count": 1,
   "metadata": {},
   "outputs": [
    {
     "output_type": "execute_result",
     "data": {
      "text/plain": [
       "         country    1961    1962    1963     1964     1965     1966     1967  \\\n",
       "0    Afghanistan  0.0190  0.0197  0.0203  0.02090  0.02150  0.02170  0.02190   \n",
       "1        Albania  0.0312  0.0306  0.0295  0.02880  0.02750  0.02630  0.02630   \n",
       "2        Algeria  0.0249  0.0247  0.0249  0.02560  0.02660  0.02760  0.02850   \n",
       "3        Andorra  0.0694  0.0669  0.0656  0.06240  0.06000  0.05750  0.05500   \n",
       "4         Angola  0.0139  0.0138  0.0126  0.00974  0.00618  0.00184 -0.00121   \n",
       "..           ...     ...     ...     ...      ...      ...      ...      ...   \n",
       "189    Venezuela  0.0359  0.0353  0.0348  0.03440  0.03390  0.03350  0.03310   \n",
       "190      Vietnam  0.0300  0.0298  0.0295  0.02920  0.02890  0.02860  0.02820   \n",
       "191        Yemen  0.0145  0.0148  0.0151  0.01520  0.01520  0.01530  0.01560   \n",
       "192       Zambia  0.0300  0.0300  0.0300  0.03020  0.03050  0.03070  0.03100   \n",
       "193     Zimbabwe  0.0334  0.0338  0.0340  0.03390  0.03370  0.03350  0.03330   \n",
       "\n",
       "         1968     1969  ...      2010     2011     2012     2013     2014  \\\n",
       "0    0.022500  0.02380  ...  0.027500  0.03140  0.03410  0.03490  0.03360   \n",
       "1    0.028400  0.02900  ... -0.004960 -0.00269 -0.00165 -0.00183 -0.00207   \n",
       "2    0.028800  0.02870  ...  0.018100  0.01880  0.01950  0.02000  0.02030   \n",
       "3    0.053100  0.05200  ... -0.000166 -0.00835 -0.01590 -0.02030 -0.01950   \n",
       "4   -0.000449  0.00546  ...  0.036700  0.03630  0.03600  0.03550  0.03500   \n",
       "..        ...      ...  ...       ...      ...      ...      ...      ...   \n",
       "189  0.032500  0.03180  ...  0.014500  0.01560  0.01630  0.01420  0.00874   \n",
       "190  0.027600  0.02670  ...  0.010000  0.01020  0.01040  0.01050  0.01050   \n",
       "191  0.015800  0.01570  ...  0.028000  0.02780  0.02760  0.02720  0.02650   \n",
       "192  0.031400  0.03190  ...  0.029100  0.03020  0.03100  0.03140  0.03120   \n",
       "193  0.033300  0.03370  ...  0.013500  0.01540  0.01700  0.01780  0.01750   \n",
       "\n",
       "        2015     2016     2017      2018     2019  \n",
       "0    0.03080  0.02780  0.02550  0.023800  0.02310  \n",
       "1   -0.00291 -0.00160 -0.00092 -0.002470 -0.00426  \n",
       "2    0.02050  0.02050  0.02040  0.020100  0.01930  \n",
       "3   -0.01530 -0.00919 -0.00384  0.000065  0.00176  \n",
       "4    0.03440  0.03380  0.03320  0.032800  0.03240  \n",
       "..       ...      ...      ...       ...      ...  \n",
       "189  0.00122 -0.00786 -0.01540 -0.017900 -0.01240  \n",
       "190  0.01040  0.01030  0.01020  0.009930  0.00960  \n",
       "191  0.02580  0.02500  0.02420  0.023600  0.02300  \n",
       "192  0.03070  0.03000  0.02950  0.029100  0.02890  \n",
       "193  0.01660  0.01550  0.01460  0.014100  0.01420  \n",
       "\n",
       "[194 rows x 60 columns]"
      ],
      "text/html": "<div>\n<style scoped>\n    .dataframe tbody tr th:only-of-type {\n        vertical-align: middle;\n    }\n\n    .dataframe tbody tr th {\n        vertical-align: top;\n    }\n\n    .dataframe thead th {\n        text-align: right;\n    }\n</style>\n<table border=\"1\" class=\"dataframe\">\n  <thead>\n    <tr style=\"text-align: right;\">\n      <th></th>\n      <th>country</th>\n      <th>1961</th>\n      <th>1962</th>\n      <th>1963</th>\n      <th>1964</th>\n      <th>1965</th>\n      <th>1966</th>\n      <th>1967</th>\n      <th>1968</th>\n      <th>1969</th>\n      <th>...</th>\n      <th>2010</th>\n      <th>2011</th>\n      <th>2012</th>\n      <th>2013</th>\n      <th>2014</th>\n      <th>2015</th>\n      <th>2016</th>\n      <th>2017</th>\n      <th>2018</th>\n      <th>2019</th>\n    </tr>\n  </thead>\n  <tbody>\n    <tr>\n      <th>0</th>\n      <td>Afghanistan</td>\n      <td>0.0190</td>\n      <td>0.0197</td>\n      <td>0.0203</td>\n      <td>0.02090</td>\n      <td>0.02150</td>\n      <td>0.02170</td>\n      <td>0.02190</td>\n      <td>0.022500</td>\n      <td>0.02380</td>\n      <td>...</td>\n      <td>0.027500</td>\n      <td>0.03140</td>\n      <td>0.03410</td>\n      <td>0.03490</td>\n      <td>0.03360</td>\n      <td>0.03080</td>\n      <td>0.02780</td>\n      <td>0.02550</td>\n      <td>0.023800</td>\n      <td>0.02310</td>\n    </tr>\n    <tr>\n      <th>1</th>\n      <td>Albania</td>\n      <td>0.0312</td>\n      <td>0.0306</td>\n      <td>0.0295</td>\n      <td>0.02880</td>\n      <td>0.02750</td>\n      <td>0.02630</td>\n      <td>0.02630</td>\n      <td>0.028400</td>\n      <td>0.02900</td>\n      <td>...</td>\n      <td>-0.004960</td>\n      <td>-0.00269</td>\n      <td>-0.00165</td>\n      <td>-0.00183</td>\n      <td>-0.00207</td>\n      <td>-0.00291</td>\n      <td>-0.00160</td>\n      <td>-0.00092</td>\n      <td>-0.002470</td>\n      <td>-0.00426</td>\n    </tr>\n    <tr>\n      <th>2</th>\n      <td>Algeria</td>\n      <td>0.0249</td>\n      <td>0.0247</td>\n      <td>0.0249</td>\n      <td>0.02560</td>\n      <td>0.02660</td>\n      <td>0.02760</td>\n      <td>0.02850</td>\n      <td>0.028800</td>\n      <td>0.02870</td>\n      <td>...</td>\n      <td>0.018100</td>\n      <td>0.01880</td>\n      <td>0.01950</td>\n      <td>0.02000</td>\n      <td>0.02030</td>\n      <td>0.02050</td>\n      <td>0.02050</td>\n      <td>0.02040</td>\n      <td>0.020100</td>\n      <td>0.01930</td>\n    </tr>\n    <tr>\n      <th>3</th>\n      <td>Andorra</td>\n      <td>0.0694</td>\n      <td>0.0669</td>\n      <td>0.0656</td>\n      <td>0.06240</td>\n      <td>0.06000</td>\n      <td>0.05750</td>\n      <td>0.05500</td>\n      <td>0.053100</td>\n      <td>0.05200</td>\n      <td>...</td>\n      <td>-0.000166</td>\n      <td>-0.00835</td>\n      <td>-0.01590</td>\n      <td>-0.02030</td>\n      <td>-0.01950</td>\n      <td>-0.01530</td>\n      <td>-0.00919</td>\n      <td>-0.00384</td>\n      <td>0.000065</td>\n      <td>0.00176</td>\n    </tr>\n    <tr>\n      <th>4</th>\n      <td>Angola</td>\n      <td>0.0139</td>\n      <td>0.0138</td>\n      <td>0.0126</td>\n      <td>0.00974</td>\n      <td>0.00618</td>\n      <td>0.00184</td>\n      <td>-0.00121</td>\n      <td>-0.000449</td>\n      <td>0.00546</td>\n      <td>...</td>\n      <td>0.036700</td>\n      <td>0.03630</td>\n      <td>0.03600</td>\n      <td>0.03550</td>\n      <td>0.03500</td>\n      <td>0.03440</td>\n      <td>0.03380</td>\n      <td>0.03320</td>\n      <td>0.032800</td>\n      <td>0.03240</td>\n    </tr>\n    <tr>\n      <th>...</th>\n      <td>...</td>\n      <td>...</td>\n      <td>...</td>\n      <td>...</td>\n      <td>...</td>\n      <td>...</td>\n      <td>...</td>\n      <td>...</td>\n      <td>...</td>\n      <td>...</td>\n      <td>...</td>\n      <td>...</td>\n      <td>...</td>\n      <td>...</td>\n      <td>...</td>\n      <td>...</td>\n      <td>...</td>\n      <td>...</td>\n      <td>...</td>\n      <td>...</td>\n      <td>...</td>\n    </tr>\n    <tr>\n      <th>189</th>\n      <td>Venezuela</td>\n      <td>0.0359</td>\n      <td>0.0353</td>\n      <td>0.0348</td>\n      <td>0.03440</td>\n      <td>0.03390</td>\n      <td>0.03350</td>\n      <td>0.03310</td>\n      <td>0.032500</td>\n      <td>0.03180</td>\n      <td>...</td>\n      <td>0.014500</td>\n      <td>0.01560</td>\n      <td>0.01630</td>\n      <td>0.01420</td>\n      <td>0.00874</td>\n      <td>0.00122</td>\n      <td>-0.00786</td>\n      <td>-0.01540</td>\n      <td>-0.017900</td>\n      <td>-0.01240</td>\n    </tr>\n    <tr>\n      <th>190</th>\n      <td>Vietnam</td>\n      <td>0.0300</td>\n      <td>0.0298</td>\n      <td>0.0295</td>\n      <td>0.02920</td>\n      <td>0.02890</td>\n      <td>0.02860</td>\n      <td>0.02820</td>\n      <td>0.027600</td>\n      <td>0.02670</td>\n      <td>...</td>\n      <td>0.010000</td>\n      <td>0.01020</td>\n      <td>0.01040</td>\n      <td>0.01050</td>\n      <td>0.01050</td>\n      <td>0.01040</td>\n      <td>0.01030</td>\n      <td>0.01020</td>\n      <td>0.009930</td>\n      <td>0.00960</td>\n    </tr>\n    <tr>\n      <th>191</th>\n      <td>Yemen</td>\n      <td>0.0145</td>\n      <td>0.0148</td>\n      <td>0.0151</td>\n      <td>0.01520</td>\n      <td>0.01520</td>\n      <td>0.01530</td>\n      <td>0.01560</td>\n      <td>0.015800</td>\n      <td>0.01570</td>\n      <td>...</td>\n      <td>0.028000</td>\n      <td>0.02780</td>\n      <td>0.02760</td>\n      <td>0.02720</td>\n      <td>0.02650</td>\n      <td>0.02580</td>\n      <td>0.02500</td>\n      <td>0.02420</td>\n      <td>0.023600</td>\n      <td>0.02300</td>\n    </tr>\n    <tr>\n      <th>192</th>\n      <td>Zambia</td>\n      <td>0.0300</td>\n      <td>0.0300</td>\n      <td>0.0300</td>\n      <td>0.03020</td>\n      <td>0.03050</td>\n      <td>0.03070</td>\n      <td>0.03100</td>\n      <td>0.031400</td>\n      <td>0.03190</td>\n      <td>...</td>\n      <td>0.029100</td>\n      <td>0.03020</td>\n      <td>0.03100</td>\n      <td>0.03140</td>\n      <td>0.03120</td>\n      <td>0.03070</td>\n      <td>0.03000</td>\n      <td>0.02950</td>\n      <td>0.029100</td>\n      <td>0.02890</td>\n    </tr>\n    <tr>\n      <th>193</th>\n      <td>Zimbabwe</td>\n      <td>0.0334</td>\n      <td>0.0338</td>\n      <td>0.0340</td>\n      <td>0.03390</td>\n      <td>0.03370</td>\n      <td>0.03350</td>\n      <td>0.03330</td>\n      <td>0.033300</td>\n      <td>0.03370</td>\n      <td>...</td>\n      <td>0.013500</td>\n      <td>0.01540</td>\n      <td>0.01700</td>\n      <td>0.01780</td>\n      <td>0.01750</td>\n      <td>0.01660</td>\n      <td>0.01550</td>\n      <td>0.01460</td>\n      <td>0.014100</td>\n      <td>0.01420</td>\n    </tr>\n  </tbody>\n</table>\n<p>194 rows × 60 columns</p>\n</div>"
     },
     "metadata": {},
     "execution_count": 1
    }
   ],
   "source": [
    "import pandas as pd\n",
    "\n",
    "pop_datapath = \"Datasets/population_growth_annual_percent.csv\"\n",
    "\n",
    "pop_growth = pd.read_csv(pop_datapath)\n",
    "\n",
    "pop_growth"
   ]
  },
  {
   "cell_type": "code",
   "execution_count": 2,
   "metadata": {},
   "outputs": [
    {
     "output_type": "execute_result",
     "data": {
      "text/plain": [
       "         Country     2015     2016     2017      2018     2019\n",
       "0    Afghanistan  0.03080  0.02780  0.02550  0.023800  0.02310\n",
       "1        Albania -0.00291 -0.00160 -0.00092 -0.002470 -0.00426\n",
       "2        Algeria  0.02050  0.02050  0.02040  0.020100  0.01930\n",
       "3        Andorra -0.01530 -0.00919 -0.00384  0.000065  0.00176\n",
       "4         Angola  0.03440  0.03380  0.03320  0.032800  0.03240\n",
       "..           ...      ...      ...      ...       ...      ...\n",
       "189    Venezuela  0.00122 -0.00786 -0.01540 -0.017900 -0.01240\n",
       "190      Vietnam  0.01040  0.01030  0.01020  0.009930  0.00960\n",
       "191        Yemen  0.02580  0.02500  0.02420  0.023600  0.02300\n",
       "192       Zambia  0.03070  0.03000  0.02950  0.029100  0.02890\n",
       "193     Zimbabwe  0.01660  0.01550  0.01460  0.014100  0.01420\n",
       "\n",
       "[193 rows x 6 columns]"
      ],
      "text/html": "<div>\n<style scoped>\n    .dataframe tbody tr th:only-of-type {\n        vertical-align: middle;\n    }\n\n    .dataframe tbody tr th {\n        vertical-align: top;\n    }\n\n    .dataframe thead th {\n        text-align: right;\n    }\n</style>\n<table border=\"1\" class=\"dataframe\">\n  <thead>\n    <tr style=\"text-align: right;\">\n      <th></th>\n      <th>Country</th>\n      <th>2015</th>\n      <th>2016</th>\n      <th>2017</th>\n      <th>2018</th>\n      <th>2019</th>\n    </tr>\n  </thead>\n  <tbody>\n    <tr>\n      <th>0</th>\n      <td>Afghanistan</td>\n      <td>0.03080</td>\n      <td>0.02780</td>\n      <td>0.02550</td>\n      <td>0.023800</td>\n      <td>0.02310</td>\n    </tr>\n    <tr>\n      <th>1</th>\n      <td>Albania</td>\n      <td>-0.00291</td>\n      <td>-0.00160</td>\n      <td>-0.00092</td>\n      <td>-0.002470</td>\n      <td>-0.00426</td>\n    </tr>\n    <tr>\n      <th>2</th>\n      <td>Algeria</td>\n      <td>0.02050</td>\n      <td>0.02050</td>\n      <td>0.02040</td>\n      <td>0.020100</td>\n      <td>0.01930</td>\n    </tr>\n    <tr>\n      <th>3</th>\n      <td>Andorra</td>\n      <td>-0.01530</td>\n      <td>-0.00919</td>\n      <td>-0.00384</td>\n      <td>0.000065</td>\n      <td>0.00176</td>\n    </tr>\n    <tr>\n      <th>4</th>\n      <td>Angola</td>\n      <td>0.03440</td>\n      <td>0.03380</td>\n      <td>0.03320</td>\n      <td>0.032800</td>\n      <td>0.03240</td>\n    </tr>\n    <tr>\n      <th>...</th>\n      <td>...</td>\n      <td>...</td>\n      <td>...</td>\n      <td>...</td>\n      <td>...</td>\n      <td>...</td>\n    </tr>\n    <tr>\n      <th>189</th>\n      <td>Venezuela</td>\n      <td>0.00122</td>\n      <td>-0.00786</td>\n      <td>-0.01540</td>\n      <td>-0.017900</td>\n      <td>-0.01240</td>\n    </tr>\n    <tr>\n      <th>190</th>\n      <td>Vietnam</td>\n      <td>0.01040</td>\n      <td>0.01030</td>\n      <td>0.01020</td>\n      <td>0.009930</td>\n      <td>0.00960</td>\n    </tr>\n    <tr>\n      <th>191</th>\n      <td>Yemen</td>\n      <td>0.02580</td>\n      <td>0.02500</td>\n      <td>0.02420</td>\n      <td>0.023600</td>\n      <td>0.02300</td>\n    </tr>\n    <tr>\n      <th>192</th>\n      <td>Zambia</td>\n      <td>0.03070</td>\n      <td>0.03000</td>\n      <td>0.02950</td>\n      <td>0.029100</td>\n      <td>0.02890</td>\n    </tr>\n    <tr>\n      <th>193</th>\n      <td>Zimbabwe</td>\n      <td>0.01660</td>\n      <td>0.01550</td>\n      <td>0.01460</td>\n      <td>0.014100</td>\n      <td>0.01420</td>\n    </tr>\n  </tbody>\n</table>\n<p>193 rows × 6 columns</p>\n</div>"
     },
     "metadata": {},
     "execution_count": 2
    }
   ],
   "source": [
    "pop_growth = pop_growth[['country', '2015','2016','2017','2018','2019']]\n",
    "pop_growth = pop_growth.rename(columns={'country': 'Country'})\n",
    "pop_growth_clean = pop_growth.dropna(axis=0, how='any')\n",
    "\n",
    "pop_growth_clean"
   ]
  },
  {
   "cell_type": "code",
   "execution_count": 3,
   "metadata": {},
   "outputs": [],
   "source": [
    "pop_growth_clean.to_csv(\"Clean_Datasets/Population_Growth.csv\")"
   ]
  },
  {
   "cell_type": "code",
   "execution_count": null,
   "metadata": {},
   "outputs": [],
   "source": []
  }
 ]
}